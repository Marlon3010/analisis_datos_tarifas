{
 "cells": [
  {
   "cell_type": "markdown",
   "metadata": {},
   "source": [
    "\n",
    "¡Hola!\n",
    "\n",
    "Mi nombre es Tonatiuh Cruz. Me complace revisar tu proyecto hoy.\n",
    "\n",
    "Al identificar cualquier error inicialmente, simplemente los destacaré. Te animo a localizar y abordar los problemas de forma independiente como parte de tu preparación para un rol como data-scientist. En un entorno profesional, tu líder de equipo seguiría un enfoque similar. Si encuentras la tarea desafiante, proporcionaré una pista más específica en la próxima iteración.\n",
    "\n",
    "Encontrarás mis comentarios a continuación - **por favor no los muevas, modifiques o elimines**.\n",
    "\n",
    "Puedes encontrar mis comentarios en cajas verdes, amarillas o rojas como esta:\n",
    "\n",
    "<div class=\"alert alert-block alert-success\">\n",
    "<b>Comentario del revisor</b> <a class=\"tocSkip\"></a>\n",
    "\n",
    "Éxito. Todo está hecho correctamente.\n",
    "</div>\n",
    "\n",
    "<div class=\"alert alert-block alert-warning\">\n",
    "<b>Comentario del revisor</b> <a class=\"tocSkip\"></a>\n",
    "\n",
    "Observaciones. Algunas recomendaciones.\n",
    "</div>\n",
    "\n",
    "<div class=\"alert alert-block alert-danger\">\n",
    "<b>Comentario del revisor</b> <a class=\"tocSkip\"></a>\n",
    "\n",
    "Necesita corrección. El bloque requiere algunas correcciones. El trabajo no puede ser aceptado con comentarios en rojo.\n",
    "</div>\n",
    "\n",
    "Puedes responderme utilizando esto:\n",
    "\n",
    "<div class=\"alert alert-block alert-info\">\n",
    "<b>Respuesta del estudiante.</b> <a class=\"tocSkip\"></a>\n",
    "</div>"
   ]
  },
  {
   "cell_type": "markdown",
   "metadata": {
    "id": "3rYiDeEH0q0f"
   },
   "source": [
    "# ¿Cuál es la mejor tarifa?\n",
    "\n",
    "Trabajas como analista para el operador de telecomunicaciones Megaline. La empresa ofrece a sus clientes dos tarifas de prepago, Surf y Ultimate. El departamento comercial quiere saber cuál de las tarifas genera más ingresos para poder ajustar el presupuesto de publicidad.\n",
    "\n",
    "Vas a realizar un análisis preliminar de las tarifas basado en una selección de clientes relativamente pequeña. Tendrás los datos de 500 clientes de Megaline: quiénes son los clientes, de dónde son, qué tarifa usan, así como la cantidad de llamadas que hicieron y los mensajes de texto que enviaron en 2018. Tu trabajo es analizar el comportamiento de los clientes y determinar qué tarifa de prepago genera más ingresos."
   ]
  },
  {
   "cell_type": "markdown",
   "metadata": {
    "id": "VNddPNRQ0q0w"
   },
   "source": [
    "[Te proporcionamos algunos comentarios para orientarte mientras completas este proyecto. Pero debes asegurarte de eliminar todos los comentarios entre corchetes antes de entregar tu proyecto.]\n",
    "\n",
    "[Antes de sumergirte en el análisis de datos, explica por tu propia cuenta el propósito del proyecto y las acciones que planeas realizar.]\n",
    "\n",
    "[Ten en cuenta que estudiar, modificar y analizar datos es un proceso iterativo. Es normal volver a los pasos anteriores y corregirlos/ampliarlos para permitir nuevos pasos.]"
   ]
  },
  {
   "cell_type": "markdown",
   "metadata": {
    "id": "MQi4IPy70q0y"
   },
   "source": [
    "## Inicialización"
   ]
  },
  {
   "cell_type": "code",
   "execution_count": 1,
   "metadata": {
    "id": "MtYIuBxu0q0z"
   },
   "outputs": [],
   "source": [
    "# Cargar todas las librerías\n",
    "import numpy as np\n",
    "import seaborn as sns\n",
    "import pandas as pd\n",
    "from matplotlib import pyplot as plt\n",
    "from scipy import stats as st\n",
    "import pandas as pd_users\n",
    "import pandas as pd_calls\n",
    "import pandas as pd_messages\n",
    "import pandas as pd_internet\n",
    "import pandas as pd_plans\n",
    "from datetime import datetime\n",
    "import math"
   ]
  },
  {
   "cell_type": "markdown",
   "metadata": {},
   "source": [
    "<div class=\"alert alert-block alert-warning\">\n",
    "<b>Comentario revisor</b> <a class=\"tocSkip\"></a>\n",
    "\n",
    "\n",
    "Recomiendo cargar la libreria math. De esta manera, puedes realizar redondeos con otros métodos. \n",
    "</div>"
   ]
  },
  {
   "cell_type": "markdown",
   "metadata": {},
   "source": [
    "<div class=\"alert alert-block alert-info\">\n",
    "<b>Respuesta del estudiante.</b> <a class=\"tocSkip\"></a>\n",
    "\n",
    "Se realiza la carga de la libreria math\n",
    "</div>"
   ]
  },
  {
   "cell_type": "markdown",
   "metadata": {
    "id": "4ysWWC5i0q00"
   },
   "source": [
    "## Cargar datos"
   ]
  },
  {
   "cell_type": "code",
   "execution_count": 2,
   "metadata": {
    "id": "CCqPW7rS0q01"
   },
   "outputs": [],
   "source": [
    "# Carga los archivos de datos en diferentes DataFrames\n",
    "users = pd_users.read_csv('/datasets/megaline_users.csv')\n",
    "calls = pd_calls.read_csv('/datasets/megaline_calls.csv')\n",
    "messages = pd_messages.read_csv('/datasets/megaline_messages.csv')\n",
    "internet = pd_internet.read_csv('/datasets/megaline_internet.csv')\n",
    "plans = pd_plans.read_csv('/datasets/megaline_plans.csv', sep=',', decimal='.')"
   ]
  },
  {
   "cell_type": "markdown",
   "metadata": {
    "id": "69qqoJ3r0q01"
   },
   "source": [
    "## Preparar los datos"
   ]
  },
  {
   "cell_type": "markdown",
   "metadata": {
    "id": "vUuZw80S0q01"
   },
   "source": [
    "[Los datos para este proyecto se dividen en varias tablas. Explora cada una para tener una comprensión inicial de los datos. Si es necesario, haz las correcciones requeridas en cada tabla.]"
   ]
  },
  {
   "cell_type": "markdown",
   "metadata": {
    "id": "ohBhimvH0q01"
   },
   "source": [
    "## Tarifas"
   ]
  },
  {
   "cell_type": "code",
   "execution_count": 3,
   "metadata": {
    "id": "GptqP3Q40q02"
   },
   "outputs": [
    {
     "name": "stdout",
     "output_type": "stream",
     "text": [
      "<class 'pandas.core.frame.DataFrame'>\n",
      "RangeIndex: 2 entries, 0 to 1\n",
      "Data columns (total 8 columns):\n",
      " #   Column                 Non-Null Count  Dtype  \n",
      "---  ------                 --------------  -----  \n",
      " 0   messages_included      2 non-null      int64  \n",
      " 1   mb_per_month_included  2 non-null      int64  \n",
      " 2   minutes_included       2 non-null      int64  \n",
      " 3   usd_monthly_pay        2 non-null      int64  \n",
      " 4   usd_per_gb             2 non-null      int64  \n",
      " 5   usd_per_message        2 non-null      float64\n",
      " 6   usd_per_minute         2 non-null      float64\n",
      " 7   plan_name              2 non-null      object \n",
      "dtypes: float64(2), int64(5), object(1)\n",
      "memory usage: 256.0+ bytes\n",
      "None\n"
     ]
    }
   ],
   "source": [
    "# Imprime la información general/resumida sobre el DataFrame de las tarifas\n",
    "print(plans.info())"
   ]
  },
  {
   "cell_type": "code",
   "execution_count": 4,
   "metadata": {
    "id": "64xzjwL70q02"
   },
   "outputs": [
    {
     "name": "stdout",
     "output_type": "stream",
     "text": [
      "   messages_included  mb_per_month_included  minutes_included  \\\n",
      "0                 50                  15360               500   \n",
      "1               1000                  30720              3000   \n",
      "\n",
      "   usd_monthly_pay  usd_per_gb  usd_per_message  usd_per_minute plan_name  \n",
      "0               20          10             0.03            0.03      surf  \n",
      "1               70           7             0.01            0.01  ultimate  \n"
     ]
    }
   ],
   "source": [
    "# Imprime una muestra de los datos para las tarifas\n",
    "print(plans)"
   ]
  },
  {
   "cell_type": "markdown",
   "metadata": {
    "id": "mEc_3_hs0q02"
   },
   "source": [
    "[Describe lo que ves y observas en la información general y en la muestra de datos impresa para el precio de datos anterior. ¿Hay algún problema (tipos de datos no adecuados, datos ausentes, etc.) que pudieran necesitar investigación y cambios adicionales? ¿Cómo se puede arreglar?]"
   ]
  },
  {
   "cell_type": "markdown",
   "metadata": {},
   "source": [
    "#Comentario: Se visualiza en la tabla plans que no tiene ningún tipo de problema, por lo tanto, no es necesario corregirlo."
   ]
  },
  {
   "cell_type": "markdown",
   "metadata": {
    "id": "R3C05i1l0q03"
   },
   "source": [
    "## Corregir datos"
   ]
  },
  {
   "cell_type": "markdown",
   "metadata": {
    "id": "bIi8StZI0q03"
   },
   "source": [
    "[Corrige los problemas obvios con los datos basándote en las observaciones iniciales.]"
   ]
  },
  {
   "cell_type": "code",
   "execution_count": 5,
   "metadata": {
    "id": "Y7SVmjGn0q03"
   },
   "outputs": [
    {
     "name": "stdout",
     "output_type": "stream",
     "text": [
      "messages_included        0\n",
      "mb_per_month_included    0\n",
      "minutes_included         0\n",
      "usd_monthly_pay          0\n",
      "usd_per_gb               0\n",
      "usd_per_message          0\n",
      "usd_per_minute           0\n",
      "plan_name                0\n",
      "dtype: int64\n"
     ]
    }
   ],
   "source": [
    "print(plans.isna().sum())"
   ]
  },
  {
   "cell_type": "markdown",
   "metadata": {},
   "source": [
    "<div class=\"alert alert-block alert-warning\">\n",
    "<b>Comentario Revisor</b> <a class=\"tocSkip\"></a>\n",
    "\n",
    "Muy buen trabajo, solamente te sugiero que en este apartado menciones un poco sobre la transformación que se debe realizar de megabytes a gigabytes. \n",
    "</div>"
   ]
  },
  {
   "cell_type": "markdown",
   "metadata": {},
   "source": [
    "<div class=\"alert alert-block alert-info\">\n",
    "<b>Respuesta del estudiante.</b> <a class=\"tocSkip\"></a>\n",
    "\n",
    "Para realziar la conversión de megabytes a gigabytes, se debe tomar el campo mb_per_month_included diviendo a 1024. Cabe indicar que 1024 megas equivale a 1GB. Esta conversión se realiza más adelante cuando se hace lo cálculos de ingresos mensuales.\n",
    "</div>"
   ]
  },
  {
   "cell_type": "markdown",
   "metadata": {
    "id": "LJir7bml0q03"
   },
   "source": [
    "## Enriquecer los datos"
   ]
  },
  {
   "cell_type": "markdown",
   "metadata": {
    "id": "eqADpCfg0q04"
   },
   "source": [
    "[Agrega factores adicionales a los datos si crees que pudieran ser útiles.]"
   ]
  },
  {
   "cell_type": "code",
   "execution_count": 6,
   "metadata": {
    "id": "gfcIEuXV0q04"
   },
   "outputs": [
    {
     "name": "stdout",
     "output_type": "stream",
     "text": [
      "0\n"
     ]
    }
   ],
   "source": [
    "print(plans.duplicated().sum())"
   ]
  },
  {
   "cell_type": "markdown",
   "metadata": {
    "id": "1n2X6WXf0q04"
   },
   "source": [
    "## Usuarios/as"
   ]
  },
  {
   "cell_type": "code",
   "execution_count": 7,
   "metadata": {
    "id": "2NgjWFqx0q05"
   },
   "outputs": [
    {
     "name": "stdout",
     "output_type": "stream",
     "text": [
      "<class 'pandas.core.frame.DataFrame'>\n",
      "RangeIndex: 500 entries, 0 to 499\n",
      "Data columns (total 8 columns):\n",
      " #   Column      Non-Null Count  Dtype \n",
      "---  ------      --------------  ----- \n",
      " 0   user_id     500 non-null    int64 \n",
      " 1   first_name  500 non-null    object\n",
      " 2   last_name   500 non-null    object\n",
      " 3   age         500 non-null    int64 \n",
      " 4   city        500 non-null    object\n",
      " 5   reg_date    500 non-null    object\n",
      " 6   plan        500 non-null    object\n",
      " 7   churn_date  34 non-null     object\n",
      "dtypes: int64(2), object(6)\n",
      "memory usage: 31.4+ KB\n",
      "None\n"
     ]
    }
   ],
   "source": [
    "# Imprime la información general/resumida sobre el DataFrame de usuarios\n",
    "print(users.info())"
   ]
  },
  {
   "cell_type": "code",
   "execution_count": 8,
   "metadata": {
    "id": "1IN1L9uh0q05"
   },
   "outputs": [
    {
     "name": "stdout",
     "output_type": "stream",
     "text": [
      "   user_id first_name  last_name  age                                   city  \\\n",
      "0     1000   Anamaria      Bauer   45  Atlanta-Sandy Springs-Roswell, GA MSA   \n",
      "1     1001     Mickey  Wilkerson   28        Seattle-Tacoma-Bellevue, WA MSA   \n",
      "2     1002     Carlee    Hoffman   36   Las Vegas-Henderson-Paradise, NV MSA   \n",
      "3     1003   Reynaldo    Jenkins   52                          Tulsa, OK MSA   \n",
      "4     1004    Leonila   Thompson   40        Seattle-Tacoma-Bellevue, WA MSA   \n",
      "\n",
      "     reg_date      plan churn_date  \n",
      "0  2018-12-24  ultimate        NaN  \n",
      "1  2018-08-13      surf        NaN  \n",
      "2  2018-10-21      surf        NaN  \n",
      "3  2018-01-28      surf        NaN  \n",
      "4  2018-05-23      surf        NaN  \n"
     ]
    }
   ],
   "source": [
    "# Imprime una muestra de datos para usuarios\n",
    "print(users.head())"
   ]
  },
  {
   "cell_type": "markdown",
   "metadata": {
    "id": "dCZoUq4f0q06"
   },
   "source": [
    "[Describe lo que ves y observas en la información general y en la muestra de datos impresa para el precio de datos anterior. ¿Hay algún problema (tipos de datos no adecuados, datos ausentes, etc.) que pudieran necesitar investigación y cambios adicionales? ¿Cómo se puede arreglar?]"
   ]
  },
  {
   "cell_type": "markdown",
   "metadata": {},
   "source": [
    "#Comentario: Veo que tiene valores ausentes en el campo churn_date"
   ]
  },
  {
   "cell_type": "markdown",
   "metadata": {
    "id": "BX5FQh_I0q06"
   },
   "source": [
    "### Corregir los datos"
   ]
  },
  {
   "cell_type": "markdown",
   "metadata": {
    "id": "8OdKMwJv0q06"
   },
   "source": [
    "[Corrige los problemas obvios con los datos basándote en las observaciones iniciales.]"
   ]
  },
  {
   "cell_type": "code",
   "execution_count": 9,
   "metadata": {
    "id": "yUqX-K0C0q07"
   },
   "outputs": [
    {
     "name": "stdout",
     "output_type": "stream",
     "text": [
      "user_id         0\n",
      "first_name      0\n",
      "last_name       0\n",
      "age             0\n",
      "city            0\n",
      "reg_date        0\n",
      "plan            0\n",
      "churn_date    466\n",
      "dtype: int64\n",
      "\n",
      "user_id       0\n",
      "first_name    0\n",
      "last_name     0\n",
      "age           0\n",
      "city          0\n",
      "reg_date      0\n",
      "plan          0\n",
      "churn_date    0\n",
      "dtype: int64\n"
     ]
    }
   ],
   "source": [
    "print(users.isna().sum())\n",
    "dat_camb = datetime.now()\n",
    "dat_fec = datetime.strftime(dat_camb, '%d/%m/%Y')\n",
    "users['churn_date'].fillna(dat_fec, inplace=True)\n",
    "print()\n",
    "print(users.isna().sum())"
   ]
  },
  {
   "cell_type": "markdown",
   "metadata": {},
   "source": [
    "#Comentario: Se modifica los valores ausentes de 466 con fecha actual"
   ]
  },
  {
   "cell_type": "markdown",
   "metadata": {
    "id": "ycwuARJp0q07"
   },
   "source": [
    "### Enriquecer los datos"
   ]
  },
  {
   "cell_type": "markdown",
   "metadata": {
    "id": "96NIh4CJ0q08"
   },
   "source": [
    "[Agrega factores adicionales a los datos si crees que pudieran ser útiles.]"
   ]
  },
  {
   "cell_type": "code",
   "execution_count": 10,
   "metadata": {
    "id": "iq0AaBS90q08"
   },
   "outputs": [
    {
     "name": "stdout",
     "output_type": "stream",
     "text": [
      "     user_id first_name   last_name  age  \\\n",
      "0       1000   Anamaria       Bauer   45   \n",
      "1       1001     Mickey   Wilkerson   28   \n",
      "2       1002     Carlee     Hoffman   36   \n",
      "3       1003   Reynaldo     Jenkins   52   \n",
      "4       1004    Leonila    Thompson   40   \n",
      "..       ...        ...         ...  ...   \n",
      "495     1495      Fidel      Sharpe   67   \n",
      "496     1496      Ariel    Shepherd   49   \n",
      "497     1497      Donte     Barrera   49   \n",
      "498     1498       Scot  Williamson   51   \n",
      "499     1499      Shena     Dickson   37   \n",
      "\n",
      "                                          city   reg_date      plan  \\\n",
      "0        Atlanta-Sandy Springs-Roswell, GA MSA 2018-12-24  ultimate   \n",
      "1              Seattle-Tacoma-Bellevue, WA MSA 2018-08-13      surf   \n",
      "2         Las Vegas-Henderson-Paradise, NV MSA 2018-10-21      surf   \n",
      "3                                Tulsa, OK MSA 2018-01-28      surf   \n",
      "4              Seattle-Tacoma-Bellevue, WA MSA 2018-05-23      surf   \n",
      "..                                         ...        ...       ...   \n",
      "495  New York-Newark-Jersey City, NY-NJ-PA MSA 2018-09-04      surf   \n",
      "496               New Orleans-Metairie, LA MSA 2018-02-20      surf   \n",
      "497     Los Angeles-Long Beach-Anaheim, CA MSA 2018-12-10  ultimate   \n",
      "498  New York-Newark-Jersey City, NY-NJ-PA MSA 2018-02-04      surf   \n",
      "499          Orlando-Kissimmee-Sanford, FL MSA 2018-05-06      surf   \n",
      "\n",
      "     churn_date  \n",
      "0    20/03/2024  \n",
      "1    20/03/2024  \n",
      "2    20/03/2024  \n",
      "3    20/03/2024  \n",
      "4    20/03/2024  \n",
      "..          ...  \n",
      "495  20/03/2024  \n",
      "496  20/03/2024  \n",
      "497  20/03/2024  \n",
      "498  20/03/2024  \n",
      "499  20/03/2024  \n",
      "\n",
      "[500 rows x 8 columns]\n"
     ]
    }
   ],
   "source": [
    "users['reg_date'] = pd.to_datetime(users['reg_date'], format='%Y-%m-%dT')\n",
    "print(users)"
   ]
  },
  {
   "cell_type": "markdown",
   "metadata": {},
   "source": [
    "<div class=\"alert alert-block alert-danger\">\n",
    "<b>Comentario Revisor</b> <a class=\"tocSkip\"></a>\n",
    "\n",
    "Para hacer la transformación de reg_date a un datatime puedes hacer uso de la siguiente función:\n",
    "    \n",
    "    pd.to_datetime(user['reg_date'], format='%Y-%m-%d')\n",
    "    \n",
    "te recomiendo agregar el argumento \"format='%Y-%m-%d'\" dentro de la función to_datetime(). De esta manera, puedes asegurarte siempre de que el formato de la fecha que deseas cambiar sea el que necesitas. Los mismo para las otras variables que son fechas de otras bases de datos.\n",
    "</div>"
   ]
  },
  {
   "cell_type": "markdown",
   "metadata": {},
   "source": [
    "<div class=\"alert alert-block alert-info\">\n",
    "<b>Respuesta del estudiante.</b> <a class=\"tocSkip\"></a>\n",
    "    \n",
    "Se realiza la transformación del campo reg_date a un formato datatime.\n",
    "</div>"
   ]
  },
  {
   "cell_type": "markdown",
   "metadata": {},
   "source": [
    "#Comentario: Se muestra en la columna churn_date con valores de fecha actual."
   ]
  },
  {
   "cell_type": "markdown",
   "metadata": {
    "id": "o7MeKCid0q08"
   },
   "source": [
    "## Llamadas"
   ]
  },
  {
   "cell_type": "code",
   "execution_count": 11,
   "metadata": {
    "id": "6dDlnoDm0q08"
   },
   "outputs": [
    {
     "name": "stdout",
     "output_type": "stream",
     "text": [
      "<class 'pandas.core.frame.DataFrame'>\n",
      "RangeIndex: 137735 entries, 0 to 137734\n",
      "Data columns (total 4 columns):\n",
      " #   Column     Non-Null Count   Dtype  \n",
      "---  ------     --------------   -----  \n",
      " 0   id         137735 non-null  object \n",
      " 1   user_id    137735 non-null  int64  \n",
      " 2   call_date  137735 non-null  object \n",
      " 3   duration   137735 non-null  float64\n",
      "dtypes: float64(1), int64(1), object(2)\n",
      "memory usage: 4.2+ MB\n",
      "None\n"
     ]
    }
   ],
   "source": [
    "# Imprime la información general/resumida sobre el DataFrame de las llamadas\n",
    "print(calls.info())"
   ]
  },
  {
   "cell_type": "code",
   "execution_count": 12,
   "metadata": {
    "id": "kuh1vlNB0q09"
   },
   "outputs": [
    {
     "name": "stdout",
     "output_type": "stream",
     "text": [
      "         id  user_id   call_date  duration\n",
      "0   1000_93     1000  2018-12-27      8.52\n",
      "1  1000_145     1000  2018-12-27     13.66\n",
      "2  1000_247     1000  2018-12-27     14.48\n",
      "3  1000_309     1000  2018-12-28      5.76\n",
      "4  1000_380     1000  2018-12-30      4.22\n"
     ]
    }
   ],
   "source": [
    "# Imprime una muestra de datos para las llamadas\n",
    "print(calls.head())"
   ]
  },
  {
   "cell_type": "markdown",
   "metadata": {
    "id": "DOAxYJSx0q09"
   },
   "source": [
    "[Describe lo que ves y observas en la información general y en la muestra de datos impresa para el precio de datos anterior. ¿Hay algún problema (tipos de datos no adecuados, datos ausentes, etc.) que pudieran necesitar investigación y cambios adicionales? ¿Cómo se puede arreglar?]"
   ]
  },
  {
   "cell_type": "markdown",
   "metadata": {},
   "source": [
    "#Comentario: No hay necesidad de realizar ningún cambio a la estructura inicial."
   ]
  },
  {
   "cell_type": "markdown",
   "metadata": {
    "id": "S7hzxmbX0q0-"
   },
   "source": [
    "### Corregir los datos"
   ]
  },
  {
   "cell_type": "markdown",
   "metadata": {
    "id": "YxWyAjD20q0-"
   },
   "source": [
    "[Corrige los problemas obvios con los datos basándote en las observaciones iniciales.]"
   ]
  },
  {
   "cell_type": "code",
   "execution_count": 13,
   "metadata": {
    "id": "S2r8xA4f0q0-"
   },
   "outputs": [
    {
     "name": "stdout",
     "output_type": "stream",
     "text": [
      "id           0\n",
      "user_id      0\n",
      "call_date    0\n",
      "duration     0\n",
      "dtype: int64\n",
      "\n",
      "0\n"
     ]
    }
   ],
   "source": [
    "print(calls.isna().sum())\n",
    "print()\n",
    "print(calls.duplicated().sum())"
   ]
  },
  {
   "cell_type": "markdown",
   "metadata": {
    "id": "KrMgTrlG0q0_"
   },
   "source": [
    "### Enriquecer los datos"
   ]
  },
  {
   "cell_type": "markdown",
   "metadata": {
    "id": "a9MbmEvE0q0_"
   },
   "source": [
    "[Agrega factores adicionales a los datos si crees que pudieran ser útiles.]"
   ]
  },
  {
   "cell_type": "code",
   "execution_count": 53,
   "metadata": {
    "id": "iZ1avpA_0q0_"
   },
   "outputs": [
    {
     "name": "stdout",
     "output_type": "stream",
     "text": [
      "              id  user_id  call_date  duration  month\n",
      "0        1000_93     1000 2018-12-27      8.52     12\n",
      "1       1000_145     1000 2018-12-27     13.66     12\n",
      "2       1000_247     1000 2018-12-27     14.48     12\n",
      "3       1000_309     1000 2018-12-28      5.76     12\n",
      "4       1000_380     1000 2018-12-30      4.22     12\n",
      "...          ...      ...        ...       ...    ...\n",
      "137730  1499_199     1499 2018-11-21      8.72     11\n",
      "137731  1499_200     1499 2018-10-20     10.89     10\n",
      "137732  1499_201     1499 2018-09-21      8.12      9\n",
      "137733  1499_202     1499 2018-10-10      0.37     10\n",
      "137734  1499_203     1499 2018-12-29     13.86     12\n",
      "\n",
      "[137735 rows x 5 columns]\n"
     ]
    }
   ],
   "source": [
    "calls['call_date'] = pd.to_datetime(calls['call_date'], format='%Y-%m-%dT')\n",
    "print(calls)"
   ]
  },
  {
   "cell_type": "markdown",
   "metadata": {},
   "source": [
    "<div class=\"alert alert-block alert-danger\">\n",
    "<b>Comentario revisor</b> <a class=\"tocSkip\"></a>\n",
    "\n",
    "\n",
    "Recuerda que es necesario cambiar el tipo de variable de las fechas a date\n",
    "</div>"
   ]
  },
  {
   "cell_type": "markdown",
   "metadata": {},
   "source": [
    "<div class=\"alert alert-block alert-info\">\n",
    "<b>Respuesta del estudiante.</b> <a class=\"tocSkip\"></a>\n",
    "    \n",
    "Se realiza la transformación del campo call_date a un formato datatime.\n",
    "</div>"
   ]
  },
  {
   "cell_type": "markdown",
   "metadata": {
    "id": "mOUZSi180q0_"
   },
   "source": [
    "## Mensajes"
   ]
  },
  {
   "cell_type": "code",
   "execution_count": 15,
   "metadata": {
    "id": "R-bYJpdV0q1A"
   },
   "outputs": [
    {
     "name": "stdout",
     "output_type": "stream",
     "text": [
      "<class 'pandas.core.frame.DataFrame'>\n",
      "RangeIndex: 76051 entries, 0 to 76050\n",
      "Data columns (total 3 columns):\n",
      " #   Column        Non-Null Count  Dtype \n",
      "---  ------        --------------  ----- \n",
      " 0   id            76051 non-null  object\n",
      " 1   user_id       76051 non-null  int64 \n",
      " 2   message_date  76051 non-null  object\n",
      "dtypes: int64(1), object(2)\n",
      "memory usage: 1.7+ MB\n",
      "None\n"
     ]
    }
   ],
   "source": [
    "# Imprime la información general/resumida sobre el DataFrame de los mensajes\n",
    "print(messages.info())"
   ]
  },
  {
   "cell_type": "code",
   "execution_count": 16,
   "metadata": {
    "id": "mCEl2iGE0q1A"
   },
   "outputs": [
    {
     "name": "stdout",
     "output_type": "stream",
     "text": [
      "         id  user_id message_date\n",
      "0  1000_125     1000   2018-12-27\n",
      "1  1000_160     1000   2018-12-31\n",
      "2  1000_223     1000   2018-12-31\n",
      "3  1000_251     1000   2018-12-27\n",
      "4  1000_255     1000   2018-12-26\n"
     ]
    }
   ],
   "source": [
    "# Imprime una muestra de datos para los mensajes\n",
    "print(messages.head())"
   ]
  },
  {
   "cell_type": "markdown",
   "metadata": {
    "id": "04xDj7KH0q1A"
   },
   "source": [
    "[Describe lo que ves y observas en la información general y en la muestra de datos impresa para el precio de datos anterior. ¿Hay algún problema (tipos de datos no adecuados, datos ausentes, etc.) que pudieran necesitar investigación y cambios adicionales? ¿Cómo se puede arreglar?]"
   ]
  },
  {
   "cell_type": "markdown",
   "metadata": {},
   "source": [
    "#Comentario: No hay necesidad de realizar ningún cambio a la estructura inicial."
   ]
  },
  {
   "cell_type": "markdown",
   "metadata": {
    "id": "Sprfak900q1B"
   },
   "source": [
    "### Corregir los datos"
   ]
  },
  {
   "cell_type": "markdown",
   "metadata": {
    "id": "eGw7d9j10q1B"
   },
   "source": [
    "[Corrige los problemas obvios con los datos basándote en las observaciones iniciales.]"
   ]
  },
  {
   "cell_type": "code",
   "execution_count": 54,
   "metadata": {
    "id": "vsllvkoa0q1B"
   },
   "outputs": [
    {
     "name": "stdout",
     "output_type": "stream",
     "text": [
      "id              0\n",
      "user_id         0\n",
      "message_date    0\n",
      "month           0\n",
      "dtype: int64\n",
      "\n",
      "0\n"
     ]
    }
   ],
   "source": [
    "print(messages.isna().sum())\n",
    "print()\n",
    "print(messages.duplicated().sum())"
   ]
  },
  {
   "cell_type": "markdown",
   "metadata": {
    "id": "HvLid7iD0q1B"
   },
   "source": [
    "### Enriquecer los datos"
   ]
  },
  {
   "cell_type": "markdown",
   "metadata": {
    "id": "8nhPFKIe0q1C"
   },
   "source": [
    "[Agrega factores adicionales a los datos si crees que pudieran ser útiles.]"
   ]
  },
  {
   "cell_type": "code",
   "execution_count": 55,
   "metadata": {
    "id": "zYEXZac10q1C"
   },
   "outputs": [
    {
     "name": "stdout",
     "output_type": "stream",
     "text": [
      "             id  user_id message_date  month\n",
      "0      1000_125     1000   2018-12-27     12\n",
      "1      1000_160     1000   2018-12-31     12\n",
      "2      1000_223     1000   2018-12-31     12\n",
      "3      1000_251     1000   2018-12-27     12\n",
      "4      1000_255     1000   2018-12-26     12\n",
      "...         ...      ...          ...    ...\n",
      "76046  1497_526     1497   2018-12-24     12\n",
      "76047  1497_536     1497   2018-12-24     12\n",
      "76048  1497_547     1497   2018-12-31     12\n",
      "76049  1497_558     1497   2018-12-24     12\n",
      "76050  1497_613     1497   2018-12-23     12\n",
      "\n",
      "[76051 rows x 4 columns]\n"
     ]
    }
   ],
   "source": [
    "messages['message_date'] = pd.to_datetime(messages['message_date'], format='%Y-%m-%dT')\n",
    "print(messages)"
   ]
  },
  {
   "cell_type": "markdown",
   "metadata": {},
   "source": [
    "<div class=\"alert alert-block alert-danger\">\n",
    "<b>Comentario revisor</b> <a class=\"tocSkip\"></a>\n",
    "\n",
    "\n",
    "Recuerda que es necesario cambiar el tipo de variable de las fechas a date\n",
    "</div>"
   ]
  },
  {
   "cell_type": "markdown",
   "metadata": {},
   "source": [
    "<div class=\"alert alert-block alert-info\">\n",
    "<b>Respuesta del estudiante.</b> <a class=\"tocSkip\"></a>\n",
    "    \n",
    "Se realiza la transformación del campo message_date a un formato datatime.\n",
    "</div>"
   ]
  },
  {
   "cell_type": "markdown",
   "metadata": {
    "id": "bStkaxn40q1C"
   },
   "source": [
    "## Internet"
   ]
  },
  {
   "cell_type": "code",
   "execution_count": 19,
   "metadata": {
    "id": "e-Uz5qyn0q1C"
   },
   "outputs": [
    {
     "name": "stdout",
     "output_type": "stream",
     "text": [
      "<class 'pandas.core.frame.DataFrame'>\n",
      "RangeIndex: 104825 entries, 0 to 104824\n",
      "Data columns (total 4 columns):\n",
      " #   Column        Non-Null Count   Dtype  \n",
      "---  ------        --------------   -----  \n",
      " 0   id            104825 non-null  object \n",
      " 1   user_id       104825 non-null  int64  \n",
      " 2   session_date  104825 non-null  object \n",
      " 3   mb_used       104825 non-null  float64\n",
      "dtypes: float64(1), int64(1), object(2)\n",
      "memory usage: 3.2+ MB\n",
      "None\n"
     ]
    }
   ],
   "source": [
    "# Imprime la información general/resumida sobre el DataFrame de internet\n",
    "print(internet.info())"
   ]
  },
  {
   "cell_type": "code",
   "execution_count": 20,
   "metadata": {
    "id": "9r3x_XLw0q1C"
   },
   "outputs": [
    {
     "name": "stdout",
     "output_type": "stream",
     "text": [
      "         id  user_id session_date  mb_used\n",
      "0   1000_13     1000   2018-12-29    89.86\n",
      "1  1000_204     1000   2018-12-31     0.00\n",
      "2  1000_379     1000   2018-12-28   660.40\n",
      "3  1000_413     1000   2018-12-26   270.99\n",
      "4  1000_442     1000   2018-12-27   880.22\n"
     ]
    }
   ],
   "source": [
    "# Imprime una muestra de datos para el tráfico de internet\n",
    "print(internet.head())"
   ]
  },
  {
   "cell_type": "markdown",
   "metadata": {
    "id": "EzOG5ik30q1D"
   },
   "source": [
    "[Describe lo que ves y observas en la información general y en la muestra de datos impresa para el precio de datos anterior. ¿Hay algún problema (tipos de datos no adecuados, datos ausentes, etc.) que pudieran necesitar investigación y cambios adicionales? ¿Cómo se puede arreglar?]"
   ]
  },
  {
   "cell_type": "markdown",
   "metadata": {},
   "source": [
    "#Comentario: No hay necesidad de realizar ningún cambio a la estructura inicial."
   ]
  },
  {
   "cell_type": "markdown",
   "metadata": {
    "id": "yA0tkPFg0q1D"
   },
   "source": [
    "### Corregir los datos"
   ]
  },
  {
   "cell_type": "markdown",
   "metadata": {
    "id": "zlZMuIEK0q1D"
   },
   "source": [
    "[Corrige los problemas obvios con los datos basándote en las observaciones iniciales.]"
   ]
  },
  {
   "cell_type": "code",
   "execution_count": 63,
   "metadata": {
    "id": "zVeanzdd0q1E"
   },
   "outputs": [
    {
     "name": "stdout",
     "output_type": "stream",
     "text": [
      "id              0\n",
      "user_id         0\n",
      "session_date    0\n",
      "mb_used         0\n",
      "month           0\n",
      "dtype: int64\n",
      "\n",
      "0\n"
     ]
    }
   ],
   "source": [
    "print(internet.isna().sum())\n",
    "print()\n",
    "print(internet.duplicated().sum())"
   ]
  },
  {
   "cell_type": "markdown",
   "metadata": {
    "id": "e8_mLF4a0q1E"
   },
   "source": [
    "### Enriquecer los datos"
   ]
  },
  {
   "cell_type": "markdown",
   "metadata": {
    "id": "xhNdn2tE0q1E"
   },
   "source": [
    "[Agrega factores adicionales a los datos si crees que pudieran ser útiles.]"
   ]
  },
  {
   "cell_type": "code",
   "execution_count": 64,
   "metadata": {
    "id": "ESiYPIEK0q1E"
   },
   "outputs": [
    {
     "name": "stdout",
     "output_type": "stream",
     "text": [
      "              id  user_id session_date  mb_used  month\n",
      "0        1000_13     1000   2018-12-29    89.86     12\n",
      "1       1000_204     1000   2018-12-31     0.00     12\n",
      "2       1000_379     1000   2018-12-28   660.40     12\n",
      "3       1000_413     1000   2018-12-26   270.99     12\n",
      "4       1000_442     1000   2018-12-27   880.22     12\n",
      "...          ...      ...          ...      ...    ...\n",
      "104820  1499_215     1499   2018-10-20   218.06     10\n",
      "104821  1499_216     1499   2018-12-30   304.72     12\n",
      "104822  1499_217     1499   2018-09-22   292.75      9\n",
      "104823  1499_218     1499   2018-12-07     0.00     12\n",
      "104824  1499_219     1499   2018-12-24   758.31     12\n",
      "\n",
      "[104825 rows x 5 columns]\n"
     ]
    }
   ],
   "source": [
    "internet['session_date'] = pd.to_datetime(internet['session_date'], format='%Y-%m-%dT')\n",
    "print(internet)"
   ]
  },
  {
   "cell_type": "markdown",
   "metadata": {},
   "source": [
    "<div class=\"alert alert-block alert-warning\">\n",
    "<b>Comentario revisor</b> <a class=\"tocSkip\"></a>\n",
    "\n",
    "\n",
    "Te recomiendo solamente comentar que cuando agrupemos los datos vamos a tener que redondear hacia arriba lo valores de la transformación de mbegabyter a gigabyte, para este ejercicio debemos hacer el redondeo superior dado que se cobra el costo extra en cuanto se pasa de los límites.Por lo que es necesario hacer la transformación de mb a gb y después hacer el redondeo.  \n",
    "</div>"
   ]
  },
  {
   "cell_type": "markdown",
   "metadata": {},
   "source": [
    "<div class=\"alert alert-block alert-info\">\n",
    "<b>Respuesta del estudiante.</b> <a class=\"tocSkip\"></a>\n",
    "    \n",
    "Se toma en cuenta la consideración mencionada donde realizo lo indicado en el calculo mensual por usuario donde transformo de megas a gigas y luego hago el redondeo.\n",
    "</div>"
   ]
  },
  {
   "cell_type": "markdown",
   "metadata": {},
   "source": [
    "<div class=\"alert alert-block alert-warning\">\n",
    "<b>Comentario Revisor</b> <a class=\"tocSkip\"></a>\n",
    "\n",
    "Cuando hacemos análisis de datos, un paso que es muy importate realizar es verificar que no se tengan duplicados en nuestras bases de datos y en caso de tener duplicados entender si hace sentido su duplicación o solamente son errores de registro. En este sentido sería importante que para todas las bases de datos desarrolles un análisis de registros duplicados.\n",
    "    \n",
    "</div>"
   ]
  },
  {
   "cell_type": "markdown",
   "metadata": {},
   "source": [
    "<div class=\"alert alert-block alert-info\">\n",
    "<b>Respuesta del estudiante.</b> <a class=\"tocSkip\"></a>\n",
    "    \n",
    "Se agrega en Corregir datos, el código para los registros ausentes y valores duplicados, además de agregar en Enriquecer los datos, el código de conversión a datatime.\n",
    "</div>"
   ]
  },
  {
   "cell_type": "markdown",
   "metadata": {
    "id": "3UA2cqIW0q1E"
   },
   "source": [
    "## Estudiar las condiciones de las tarifas"
   ]
  },
  {
   "cell_type": "markdown",
   "metadata": {
    "id": "T86Sqltq0q1F"
   },
   "source": [
    "[Es sumamente importante entender cómo funcionan las tarifas, cómo se les cobra a los usuarios en función de su plan de suscripción. Así que te sugerimos imprimir la información de la tarifa para ver una vez más sus condiciones.]"
   ]
  },
  {
   "cell_type": "code",
   "execution_count": 23,
   "metadata": {
    "id": "i409op8p0q1F"
   },
   "outputs": [
    {
     "name": "stdout",
     "output_type": "stream",
     "text": [
      "   messages_included  mb_per_month_included  minutes_included  \\\n",
      "0                 50                  15360               500   \n",
      "1               1000                  30720              3000   \n",
      "\n",
      "   usd_monthly_pay  usd_per_gb  usd_per_message  usd_per_minute plan_name  \n",
      "0               20          10             0.03            0.03      surf  \n",
      "1               70           7             0.01            0.01  ultimate  \n"
     ]
    }
   ],
   "source": [
    "# Imprime las condiciones de la tarifa y asegúrate de que te quedan claras\n",
    "print(plans)"
   ]
  },
  {
   "cell_type": "markdown",
   "metadata": {
    "id": "hMR1tP5d0q1F"
   },
   "source": [
    "## Agregar datos por usuario\n",
    "\n",
    "[Ahora que los datos están limpios, agrega los datos por usuario y por periodo para que solo haya un registro por usuario y por periodo. Esto facilitará mucho el análisis posterior.]"
   ]
  },
  {
   "cell_type": "code",
   "execution_count": 24,
   "metadata": {
    "id": "A332cedB0q1G"
   },
   "outputs": [
    {
     "name": "stdout",
     "output_type": "stream",
     "text": [
      "      user_id  month  id\n",
      "0        1000     12  16\n",
      "1        1001      8  27\n",
      "2        1001      9  49\n",
      "3        1001     10  65\n",
      "4        1001     11  64\n",
      "...       ...    ...  ..\n",
      "2253     1498     12  39\n",
      "2254     1499      9  41\n",
      "2255     1499     10  53\n",
      "2256     1499     11  45\n",
      "2257     1499     12  65\n",
      "\n",
      "[2258 rows x 3 columns]\n"
     ]
    }
   ],
   "source": [
    "# Calcula el número de llamadas hechas por cada usuario al mes. Guarda el resultado.\n",
    "calls['month'] = pd_calls.to_datetime(calls['call_date']).dt.month\n",
    "grp_calls = calls.groupby(['user_id','month']).count().reset_index()\n",
    "print(grp_calls[['user_id','month','id']])"
   ]
  },
  {
   "cell_type": "markdown",
   "metadata": {},
   "source": [
    "\n",
    "<div class=\"alert alert-block alert-warning\">\n",
    "\n",
    "<b>Comentario revisor</b> <a class=\"tocSkip\"></a>\n",
    "\n",
    "Si bien es correcta la forma de agrupar para sacar la duración de las llamadas por cada ususario, para proximas ocasiones puedes hacer uso de la siguiente forma:\n",
    "    \n",
    "    pivot_calls = calls.pivot_table(index=['user_id', 'month'],\n",
    "                                values=['duration'],\n",
    "                                aggfunc=['sum','count']).reset_index()\n",
    "\n",
    "</div>\n",
    "\n"
   ]
  },
  {
   "cell_type": "code",
   "execution_count": 66,
   "metadata": {},
   "outputs": [
    {
     "name": "stdout",
     "output_type": "stream",
     "text": [
      "     user_id month      sum    count\n",
      "                   duration duration\n",
      "0       1000    12   116.83       16\n",
      "1       1001     8   171.14       27\n",
      "2       1001     9   297.69       49\n",
      "3       1001    10   374.11       65\n",
      "4       1001    11   404.59       64\n",
      "...      ...   ...      ...      ...\n",
      "2253    1498    12   324.77       39\n",
      "2254    1499     9   330.37       41\n",
      "2255    1499    10   363.28       53\n",
      "2256    1499    11   288.56       45\n",
      "2257    1499    12   468.10       65\n",
      "\n",
      "[2258 rows x 4 columns]\n"
     ]
    }
   ],
   "source": [
    "pivot_calls = calls.pivot_table(index=['user_id', 'month'],\n",
    "                            values=['duration'],\n",
    "                            aggfunc=['sum','count']).reset_index()\n",
    "print(pivot_calls)"
   ]
  },
  {
   "cell_type": "markdown",
   "metadata": {},
   "source": [
    "<div class=\"alert alert-block alert-info\">\n",
    "<b>Respuesta del estudiante.</b> <a class=\"tocSkip\"></a>\n",
    "    \n",
    "Se realiza el agrupamiento usando pivot_table donde indica el mismo resultado que tengo en los cuadros: por número de llamadas y cantidad de minutos\n",
    "</div>"
   ]
  },
  {
   "cell_type": "code",
   "execution_count": 25,
   "metadata": {
    "id": "aw2cmuql0q1G"
   },
   "outputs": [
    {
     "name": "stdout",
     "output_type": "stream",
     "text": [
      "      user_id  month  duration\n",
      "0        1000     12    116.83\n",
      "1        1001      8    171.14\n",
      "2        1001      9    297.69\n",
      "3        1001     10    374.11\n",
      "4        1001     11    404.59\n",
      "...       ...    ...       ...\n",
      "2253     1498     12    324.77\n",
      "2254     1499      9    330.37\n",
      "2255     1499     10    363.28\n",
      "2256     1499     11    288.56\n",
      "2257     1499     12    468.10\n",
      "\n",
      "[2258 rows x 3 columns]\n"
     ]
    }
   ],
   "source": [
    "# Calcula la cantidad de minutos usados por cada usuario al mes. Guarda el resultado.\n",
    "grp_calls_min = calls.groupby(['user_id','month']).sum().reset_index()\n",
    "print(grp_calls_min)"
   ]
  },
  {
   "cell_type": "code",
   "execution_count": 26,
   "metadata": {
    "id": "CcQvNHn60q1G"
   },
   "outputs": [
    {
     "name": "stdout",
     "output_type": "stream",
     "text": [
      "      user_id  month  id\n",
      "0        1000     12  11\n",
      "1        1001      8  30\n",
      "2        1001      9  44\n",
      "3        1001     10  53\n",
      "4        1001     11  36\n",
      "...       ...    ...  ..\n",
      "1801     1496      9  21\n",
      "1802     1496     10  18\n",
      "1803     1496     11  13\n",
      "1804     1496     12  11\n",
      "1805     1497     12  50\n",
      "\n",
      "[1806 rows x 3 columns]\n"
     ]
    }
   ],
   "source": [
    "# Calcula el número de mensajes enviados por cada usuario al mes. Guarda el resultado.\n",
    "messages['month'] = pd_messages.to_datetime(messages['message_date']).dt.month\n",
    "grp_messages = messages.groupby(['user_id','month']).count().reset_index()\n",
    "print(grp_messages[['user_id','month','id']])"
   ]
  },
  {
   "cell_type": "code",
   "execution_count": 27,
   "metadata": {
    "id": "H1AqN2eG0q1H"
   },
   "outputs": [
    {
     "name": "stdout",
     "output_type": "stream",
     "text": [
      "      user_id  month   mb_used\n",
      "0        1000     12   1901.47\n",
      "1        1001      8   6919.15\n",
      "2        1001      9  13314.82\n",
      "3        1001     10  22330.49\n",
      "4        1001     11  18504.30\n",
      "...       ...    ...       ...\n",
      "2272     1498     12  23137.69\n",
      "2273     1499      9  12984.76\n",
      "2274     1499     10  19492.43\n",
      "2275     1499     11  16813.83\n",
      "2276     1499     12  22059.21\n",
      "\n",
      "[2277 rows x 3 columns]\n"
     ]
    }
   ],
   "source": [
    "# Calcula el volumen del tráfico de Internet usado por cada usuario al mes. Guarda el resultado.\n",
    "internet['month'] = pd_internet.to_datetime(internet['session_date']).dt.month\n",
    "grp_internet = internet.groupby(['user_id','month']).sum().reset_index()\n",
    "print(grp_internet)"
   ]
  },
  {
   "cell_type": "markdown",
   "metadata": {
    "id": "VDfYXnj80q1H"
   },
   "source": [
    "[Junta los datos agregados en un DataFrame para que haya un registro que represente lo que consumió un usuario único en un mes determinado.]"
   ]
  },
  {
   "cell_type": "code",
   "execution_count": 28,
   "metadata": {
    "id": "FW99ykyf0q1H"
   },
   "outputs": [
    {
     "name": "stdout",
     "output_type": "stream",
     "text": [
      "      user_id  month  llamadas  minutos  mensajes  internet\n",
      "0        1000     12      16.0   116.83      11.0   1901.47\n",
      "1        1001      8      27.0   171.14      30.0   6919.15\n",
      "2        1001      9      49.0   297.69      44.0  13314.82\n",
      "3        1001     10      65.0   374.11      53.0  22330.49\n",
      "4        1001     11      64.0   404.59      36.0  18504.30\n",
      "...       ...    ...       ...      ...       ...       ...\n",
      "2288     1349     12       0.0     0.00      61.0  13039.91\n",
      "2289     1361      5       0.0     0.00       2.0   1519.69\n",
      "2290     1482     10       0.0     0.00       2.0      0.00\n",
      "2291     1108     12       0.0     0.00       0.0    233.17\n",
      "2292     1311      6       0.0     0.00       0.0   1498.83\n",
      "\n",
      "[2293 rows x 6 columns]\n"
     ]
    },
    {
     "name": "stderr",
     "output_type": "stream",
     "text": [
      "/opt/conda/lib/python3.9/site-packages/pandas/core/series.py:4463: SettingWithCopyWarning: \n",
      "A value is trying to be set on a copy of a slice from a DataFrame\n",
      "\n",
      "See the caveats in the documentation: https://pandas.pydata.org/pandas-docs/stable/user_guide/indexing.html#returning-a-view-versus-a-copy\n",
      "  return super().fillna(\n"
     ]
    }
   ],
   "source": [
    "# Fusiona los datos de llamadas, minutos, mensajes e Internet con base en user_id y month\n",
    "mrg_call = grp_calls.merge(grp_calls_min, how='outer', on=['user_id','month'])\n",
    "mrg_men = mrg_call.merge(grp_messages, how='outer', on=['user_id','month'])\n",
    "mrg_int = mrg_men.merge(grp_internet, how='outer', on=['user_id','month'])\n",
    "df_detalle = mrg_int[['user_id','month','id_x','duration_y','id_y','mb_used']]\n",
    "df_detalle.columns = ['user_id','month','llamadas','minutos','mensajes','internet']\n",
    "df_detalle['llamadas'].fillna(0, inplace=True)\n",
    "df_detalle['minutos'].fillna(0, inplace=True)\n",
    "df_detalle['mensajes'].fillna(0, inplace=True)\n",
    "df_detalle['internet'].fillna(0, inplace=True)\n",
    "print(df_detalle)"
   ]
  },
  {
   "cell_type": "markdown",
   "metadata": {},
   "source": [
    "<div class=\"alert alert-block alert-success\">\n",
    "<b>Comentario del revisor</b> <a class=\"tocSkip\"></a>\n",
    "\n",
    "Muy buen trabajo!! el merge es correcto para unir todas las bases trabajadas.\n",
    "    \n",
    "</div>"
   ]
  },
  {
   "cell_type": "code",
   "execution_count": 29,
   "metadata": {
    "id": "0dNOXHag0q1H"
   },
   "outputs": [
    {
     "name": "stdout",
     "output_type": "stream",
     "text": [
      "      user_id  month  llamadas  minutos  mensajes  internet      plan  \\\n",
      "0        1000     12      16.0   116.83      11.0   1901.47  ultimate   \n",
      "720      1001      8      27.0   171.14      30.0   6919.15      surf   \n",
      "721      1001      9      49.0   297.69      44.0  13314.82      surf   \n",
      "722      1001     10      65.0   374.11      53.0  22330.49      surf   \n",
      "723      1001     11      64.0   404.59      36.0  18504.30      surf   \n",
      "...       ...    ...       ...      ...       ...       ...       ...   \n",
      "2261     1498     12      39.0   324.77       0.0  23137.69      surf   \n",
      "2262     1499      9      41.0   330.37       0.0  12984.76      surf   \n",
      "2263     1499     10      53.0   363.28       0.0  19492.43      surf   \n",
      "2264     1499     11      45.0   288.56       0.0  16813.83      surf   \n",
      "2265     1499     12      65.0   468.10       0.0  22059.21      surf   \n",
      "\n",
      "      messages_included  mb_per_month_included  minutes_included  \\\n",
      "0                  1000                  30720              3000   \n",
      "720                  50                  15360               500   \n",
      "721                  50                  15360               500   \n",
      "722                  50                  15360               500   \n",
      "723                  50                  15360               500   \n",
      "...                 ...                    ...               ...   \n",
      "2261                 50                  15360               500   \n",
      "2262                 50                  15360               500   \n",
      "2263                 50                  15360               500   \n",
      "2264                 50                  15360               500   \n",
      "2265                 50                  15360               500   \n",
      "\n",
      "      usd_monthly_pay  usd_per_gb  usd_per_message  usd_per_minute  \n",
      "0                  70           7             0.01            0.01  \n",
      "720                20          10             0.03            0.03  \n",
      "721                20          10             0.03            0.03  \n",
      "722                20          10             0.03            0.03  \n",
      "723                20          10             0.03            0.03  \n",
      "...               ...         ...              ...             ...  \n",
      "2261               20          10             0.03            0.03  \n",
      "2262               20          10             0.03            0.03  \n",
      "2263               20          10             0.03            0.03  \n",
      "2264               20          10             0.03            0.03  \n",
      "2265               20          10             0.03            0.03  \n",
      "\n",
      "[2293 rows x 14 columns]\n"
     ]
    }
   ],
   "source": [
    "# Añade la información de la tarifa\n",
    "mrg_user = df_detalle.merge(users, how='inner', on='user_id')\n",
    "mrg_tar = mrg_user.merge(plans, how='inner', left_on='plan', right_on='plan_name')\n",
    "print(mrg_tar[['user_id','month','llamadas','minutos','mensajes','internet','plan','messages_included','mb_per_month_included','minutes_included','usd_monthly_pay','usd_per_gb','usd_per_message','usd_per_minute']].sort_values(by=['user_id','month']))"
   ]
  },
  {
   "cell_type": "markdown",
   "metadata": {
    "id": "1IwGo4wg0q1I"
   },
   "source": [
    "[Calcula los ingresos mensuales por usuario (resta el límite del paquete gratuito del número total de llamadas, mensajes de texto y datos; multiplica el resultado por el valor del plan de llamadas; añade la tarifa mensual en función del plan de llamadas). Nota: Dadas las condiciones del plan, ¡esto podría no ser tan trivial como un par de líneas! Así que no pasa nada si dedicas algo de tiempo a ello.]"
   ]
  },
  {
   "cell_type": "code",
   "execution_count": 30,
   "metadata": {
    "id": "5FGCf_c60q1I"
   },
   "outputs": [
    {
     "name": "stdout",
     "output_type": "stream",
     "text": [
      "      user_id  month  llamadas  minutos  mensajes  internet  first_name  \\\n",
      "0        1000     12      16.0    117.0      11.0   1901.47    Anamaria   \n",
      "1        1006     11       2.0     10.0      15.0   2068.37      Jesusa   \n",
      "2        1006     12       9.0     55.0     139.0  32118.82      Jesusa   \n",
      "3        1008     10      71.0    451.0      21.0  17106.99       Emely   \n",
      "4        1008     11      63.0    423.0      37.0  23676.72       Emely   \n",
      "...       ...    ...       ...      ...       ...       ...         ...   \n",
      "2288     1194     11       0.0      0.0      62.0  42866.10      Robert   \n",
      "2289     1194     12       0.0      0.0      56.0  31088.49      Robert   \n",
      "2290     1349     10       0.0      0.0      76.0  13093.55  Florentina   \n",
      "2291     1349     11       0.0      0.0      72.0  17128.26  Florentina   \n",
      "2292     1349     12       0.0      0.0      61.0  13039.91  Florentina   \n",
      "\n",
      "     last_name  age                                    city  ...  \\\n",
      "0        Bauer   45   Atlanta-Sandy Springs-Roswell, GA MSA  ...   \n",
      "1     Bradford   73  San Francisco-Oakland-Berkeley, CA MSA  ...   \n",
      "2     Bradford   73  San Francisco-Oakland-Berkeley, CA MSA  ...   \n",
      "3      Hoffman   53       Orlando-Kissimmee-Sanford, FL MSA  ...   \n",
      "4      Hoffman   53       Orlando-Kissimmee-Sanford, FL MSA  ...   \n",
      "...        ...  ...                                     ...  ...   \n",
      "2288    Mclean   40  San Jose-Sunnyvale-Santa Clara, CA MSA  ...   \n",
      "2289    Mclean   40  San Jose-Sunnyvale-Santa Clara, CA MSA  ...   \n",
      "2290      Diaz   69      Boston-Cambridge-Newton, MA-NH MSA  ...   \n",
      "2291      Diaz   69      Boston-Cambridge-Newton, MA-NH MSA  ...   \n",
      "2292      Diaz   69      Boston-Cambridge-Newton, MA-NH MSA  ...   \n",
      "\n",
      "     usd_per_minute plan_name exc_min  exc_men   exc_int  conv_gb  cal_min  \\\n",
      "0              0.01  ultimate     0.0      0.0      0.00      0.0      0.0   \n",
      "1              0.01  ultimate     0.0      0.0      0.00      0.0      0.0   \n",
      "2              0.01  ultimate     0.0      0.0   1398.82      2.0      0.0   \n",
      "3              0.01  ultimate     0.0      0.0      0.00      0.0      0.0   \n",
      "4              0.01  ultimate     0.0      0.0      0.00      0.0      0.0   \n",
      "...             ...       ...     ...      ...       ...      ...      ...   \n",
      "2288           0.03      surf     0.0     12.0  27506.10     27.0      0.0   \n",
      "2289           0.03      surf     0.0      6.0  15728.49     16.0      0.0   \n",
      "2290           0.03      surf     0.0     26.0      0.00      0.0      0.0   \n",
      "2291           0.03      surf     0.0     22.0   1768.26      2.0      0.0   \n",
      "2292           0.03      surf     0.0     11.0      0.00      0.0      0.0   \n",
      "\n",
      "      cal_men  cal_int  usd_tar  \n",
      "0        0.00      0.0    70.00  \n",
      "1        0.00      0.0    70.00  \n",
      "2        0.00     14.0    84.00  \n",
      "3        0.00      0.0    70.00  \n",
      "4        0.00      0.0    70.00  \n",
      "...       ...      ...      ...  \n",
      "2288     0.36    270.0   290.36  \n",
      "2289     0.18    160.0   180.18  \n",
      "2290     0.78      0.0    20.78  \n",
      "2291     0.66     20.0    40.66  \n",
      "2292     0.33      0.0    20.33  \n",
      "\n",
      "[2293 rows x 29 columns]\n"
     ]
    }
   ],
   "source": [
    "# Calcula el ingreso mensual para cada usuario\n",
    "mrg_tar['minutos'] = np.ceil(mrg_tar['minutos'])\n",
    "mrg_tar['exc_min'] = np.maximum(mrg_tar['minutos'] - mrg_tar['minutes_included'],0)\n",
    "mrg_tar['exc_men'] = np.maximum(mrg_tar['mensajes'] - mrg_tar['messages_included'],0)\n",
    "mrg_tar['exc_int'] = np.maximum(mrg_tar['internet'] - mrg_tar['mb_per_month_included'],0)\n",
    "mrg_tar['conv_gb'] = np.ceil(mrg_tar['exc_int'] / 1024)\n",
    "mrg_tar['cal_min'] = mrg_tar['exc_min'] * mrg_tar['usd_per_minute']\n",
    "mrg_tar['cal_men'] = mrg_tar['exc_men'] * mrg_tar['usd_per_message']\n",
    "mrg_tar['cal_int'] = mrg_tar['conv_gb'] * mrg_tar['usd_per_gb']\n",
    "mrg_tar['usd_tar'] = mrg_tar['usd_monthly_pay'] + mrg_tar['cal_min'] + mrg_tar['cal_men'] + mrg_tar['cal_int']\n",
    "print(mrg_tar)"
   ]
  },
  {
   "cell_type": "markdown",
   "metadata": {
    "id": "-jtyHzJb0q1I"
   },
   "source": [
    "## Estudia el comportamiento de usuario"
   ]
  },
  {
   "cell_type": "markdown",
   "metadata": {
    "id": "AxU3Y0N70q1J"
   },
   "source": [
    "[Calcula algunas estadísticas descriptivas para los datos agregados y fusionados que nos sean útiles y que muestren un panorama general captado por los datos. Dibuja gráficos útiles para facilitar la comprensión. Dado que la tarea principal es comparar las tarifas y decidir cuál es más rentable, las estadísticas y gráficas deben calcularse por tarifa.]\n",
    "\n",
    "[En los comentarios hallarás pistas relevantes para las llamadas, pero no las hay para los mensajes e Internet. Sin embargo, el principio del estudio estadístico que se aplica para ellos es el mismo que para las llamadas.]"
   ]
  },
  {
   "cell_type": "markdown",
   "metadata": {
    "id": "vtW4CJEe0q1J"
   },
   "source": [
    "### Llamadas"
   ]
  },
  {
   "cell_type": "code",
   "execution_count": 31,
   "metadata": {
    "id": "Jf5v5--k0q1J"
   },
   "outputs": [
    {
     "data": {
      "image/png": "[encoded data removed]",
      "text/plain": [
       "<Figure size 432x288 with 1 Axes>"
      ]
     },
     "metadata": {
      "needs_background": "light"
     },
     "output_type": "display_data"
    },
    {
     "data": {
      "text/html": [
       "<div>\n",
       "<style scoped>\n",
       "    .dataframe tbody tr th:only-of-type {\n",
       "        vertical-align: middle;\n",
       "    }\n",
       "\n",
       "    .dataframe tbody tr th {\n",
       "        vertical-align: top;\n",
       "    }\n",
       "\n",
       "    .dataframe thead th {\n",
       "        text-align: right;\n",
       "    }\n",
       "</style>\n",
       "<table border=\"1\" class=\"dataframe\">\n",
       "  <thead>\n",
       "    <tr style=\"text-align: right;\">\n",
       "      <th>plan</th>\n",
       "      <th>surf</th>\n",
       "      <th>ultimate</th>\n",
       "    </tr>\n",
       "    <tr>\n",
       "      <th>month</th>\n",
       "      <th></th>\n",
       "      <th></th>\n",
       "    </tr>\n",
       "  </thead>\n",
       "  <tbody>\n",
       "    <tr>\n",
       "      <th>1.0</th>\n",
       "      <td>6.428000</td>\n",
       "      <td>6.541518</td>\n",
       "    </tr>\n",
       "    <tr>\n",
       "      <th>2.0</th>\n",
       "      <td>6.906175</td>\n",
       "      <td>6.517230</td>\n",
       "    </tr>\n",
       "    <tr>\n",
       "      <th>3.0</th>\n",
       "      <td>6.696919</td>\n",
       "      <td>6.210906</td>\n",
       "    </tr>\n",
       "    <tr>\n",
       "      <th>4.0</th>\n",
       "      <td>6.799918</td>\n",
       "      <td>6.659990</td>\n",
       "    </tr>\n",
       "    <tr>\n",
       "      <th>5.0</th>\n",
       "      <td>6.769200</td>\n",
       "      <td>6.662443</td>\n",
       "    </tr>\n",
       "    <tr>\n",
       "      <th>6.0</th>\n",
       "      <td>6.846812</td>\n",
       "      <td>6.705188</td>\n",
       "    </tr>\n",
       "    <tr>\n",
       "      <th>7.0</th>\n",
       "      <td>6.721710</td>\n",
       "      <td>6.879085</td>\n",
       "    </tr>\n",
       "    <tr>\n",
       "      <th>8.0</th>\n",
       "      <td>6.726164</td>\n",
       "      <td>6.613484</td>\n",
       "    </tr>\n",
       "    <tr>\n",
       "      <th>9.0</th>\n",
       "      <td>6.728684</td>\n",
       "      <td>6.770040</td>\n",
       "    </tr>\n",
       "    <tr>\n",
       "      <th>10.0</th>\n",
       "      <td>6.722302</td>\n",
       "      <td>6.665850</td>\n",
       "    </tr>\n",
       "    <tr>\n",
       "      <th>11.0</th>\n",
       "      <td>6.759115</td>\n",
       "      <td>6.742506</td>\n",
       "    </tr>\n",
       "    <tr>\n",
       "      <th>12.0</th>\n",
       "      <td>6.836607</td>\n",
       "      <td>6.671929</td>\n",
       "    </tr>\n",
       "  </tbody>\n",
       "</table>\n",
       "</div>"
      ],
      "text/plain": [
       "plan       surf  ultimate\n",
       "month                    \n",
       "1.0    6.428000  6.541518\n",
       "2.0    6.906175  6.517230\n",
       "3.0    6.696919  6.210906\n",
       "4.0    6.799918  6.659990\n",
       "5.0    6.769200  6.662443\n",
       "6.0    6.846812  6.705188\n",
       "7.0    6.721710  6.879085\n",
       "8.0    6.726164  6.613484\n",
       "9.0    6.728684  6.770040\n",
       "10.0   6.722302  6.665850\n",
       "11.0   6.759115  6.742506\n",
       "12.0   6.836607  6.671929"
      ]
     },
     "execution_count": 31,
     "metadata": {},
     "output_type": "execute_result"
    }
   ],
   "source": [
    "# Compara la duración promedio de llamadas por cada plan y por cada mes. Traza un gráfico de barras para visualizarla.\n",
    "mrg_cal_us = calls.merge(users, how='outer', on='user_id')\n",
    "grp_cal_us = mrg_cal_us.groupby(['month','plan'])['duration'].mean().reset_index()\n",
    "mon_pivot = grp_cal_us.pivot_table(index='month', columns='plan', values='duration', aggfunc='mean')\n",
    "mon_pivot.plot(kind='bar')\n",
    "plt.show()\n",
    "mon_pivot"
   ]
  },
  {
   "cell_type": "code",
   "execution_count": 32,
   "metadata": {
    "id": "QoLqW1S_0q1J",
    "scrolled": true
   },
   "outputs": [
    {
     "name": "stdout",
     "output_type": "stream",
     "text": [
      "count    1573.000000\n",
      "mean      405.250477\n",
      "std       221.684445\n",
      "min         0.000000\n",
      "25%       256.000000\n",
      "50%       402.000000\n",
      "75%       544.000000\n",
      "max      1432.000000\n",
      "Name: minutos, dtype: float64\n",
      "\n",
      "count     720.000000\n",
      "mean      406.708333\n",
      "std       227.270019\n",
      "min         0.000000\n",
      "25%       247.000000\n",
      "50%       399.000000\n",
      "75%       532.500000\n",
      "max      1293.000000\n",
      "Name: minutos, dtype: float64\n"
     ]
    },
    {
     "data": {
      "image/png": "[encoded data removed]",
      "text/plain": [
       "<Figure size 432x288 with 1 Axes>"
      ]
     },
     "metadata": {
      "needs_background": "light"
     },
     "output_type": "display_data"
    }
   ],
   "source": [
    "# Compara el número de minutos mensuales que necesitan los usuarios de cada plan. Traza un histograma.\n",
    "df_mon_min_s = mrg_tar[mrg_tar['plan'] == 'surf']['minutos']\n",
    "print(df_mon_min_s.describe())\n",
    "print()\n",
    "df_mon_min_u = mrg_tar[mrg_tar['plan'] == 'ultimate']['minutos']\n",
    "print(df_mon_min_u.describe())\n",
    "\n",
    "\n",
    "x = [df_mon_min_s, df_mon_min_u]\n",
    "\n",
    "fig, ax = plt.subplots()\n",
    "ax.hist(x, bins=10, color=['lightsteelblue', 'pink'], edgecolor=\"white\")\n",
    "\n",
    "plt.title('Distribución de minutos consumidos según el plan del usuario')\n",
    "plt.legend(['surf', 'ultimate'])\n",
    "plt.xlabel('Minutos consumidos')\n",
    "plt.ylabel('Frecuencia')\n",
    "\n",
    "plt.show()\n"
   ]
  },
  {
   "cell_type": "code",
   "execution_count": 33,
   "metadata": {},
   "outputs": [
    {
     "data": {
      "image/png": "[encoded data removed]",
      "text/plain": [
       "<Figure size 432x288 with 1 Axes>"
      ]
     },
     "metadata": {
      "needs_background": "light"
     },
     "output_type": "display_data"
    }
   ],
   "source": [
    "sns.kdeplot(x = df_mon_min_s, fill=True, color='lightsteelblue')\n",
    "sns.kdeplot(x = df_mon_min_u, fill=True, shade=True, color='pink')\n",
    "\n",
    "plt.title('Histograma de densidad de los minutos consumidos según el plan')\n",
    "plt.legend(['surf', 'ultimate'])\n",
    "plt.xlabel('Minutos consumidos')\n",
    "plt.ylabel('Densidad')\n",
    "\n",
    "\n",
    "plt.show()"
   ]
  },
  {
   "cell_type": "markdown",
   "metadata": {
    "id": "bLS9T8OH0q1K"
   },
   "source": [
    "[Calcula la media y la variable de la duración de las llamadas para averiguar si los usuarios de los distintos planes se comportan de forma diferente al realizar sus llamadas.]"
   ]
  },
  {
   "cell_type": "code",
   "execution_count": 34,
   "metadata": {
    "id": "oSndbAnt0q1K"
   },
   "outputs": [
    {
     "name": "stdout",
     "output_type": "stream",
     "text": [
      "La media de llamadas con plan surf es: 405.2504767959313\n",
      "La varianza de llamadas con plan surf es: 49112.75099309752\n",
      "La media de llamadas con plan ultimate es: 406.7083333333333\n",
      "La varianza de llamadas con plan ultimate es: 51579.923263888886\n"
     ]
    }
   ],
   "source": [
    "# Calcula la media y la varianza de la duración mensual de llamadas.\n",
    "mean_ll_s = df_mon_min_s.mean()\n",
    "print(\"La media de llamadas con plan surf es:\",mean_ll_s)\n",
    "\n",
    "var_ll_s = np.var(df_mon_min_s)\n",
    "print(\"La varianza de llamadas con plan surf es:\",var_ll_s)\n",
    "\n",
    "mean_ll_u = df_mon_min_u.mean()\n",
    "print(\"La media de llamadas con plan ultimate es:\",mean_ll_u)\n",
    "\n",
    "var_ll_u = np.var(df_mon_min_u)\n",
    "print(\"La varianza de llamadas con plan ultimate es:\",var_ll_u)"
   ]
  },
  {
   "cell_type": "code",
   "execution_count": 35,
   "metadata": {
    "id": "nZzoRUKc0q1K"
   },
   "outputs": [
    {
     "data": {
      "image/png": "[encoded data removed]",
      "text/plain": [
       "<Figure size 432x288 with 1 Axes>"
      ]
     },
     "metadata": {
      "needs_background": "light"
     },
     "output_type": "display_data"
    }
   ],
   "source": [
    "# Traza un diagrama de caja para visualizar la distribución de la duración mensual de llamadas\n",
    "sns.boxplot(x=\"minutos\", y=\"plan\", data=mrg_tar, palette='pastel', saturation=0.9, linewidth=2, fliersize=8, order=['surf','ultimate'])\n",
    "\n",
    "plt.show()"
   ]
  },
  {
   "cell_type": "markdown",
   "metadata": {
    "id": "r627zBO50q1K"
   },
   "source": [
    "[Elabora las conclusiones sobre el comportamiento de los usuarios con respecto a las llamadas. ¿Su comportamiento varía en función del plan?]"
   ]
  },
  {
   "cell_type": "markdown",
   "metadata": {},
   "source": [
    "El comportamiento en llamadas de los usuarios con respecto a minutos son casi similares a los planes: ultimate y surf. Esto se lo puede observar mediante los gráficos de densidad, de cajas. Además, se muestra con los datos en media, varianza, mediana y desviación estandar."
   ]
  },
  {
   "cell_type": "markdown",
   "metadata": {
    "id": "8idKy8Wh0q1L"
   },
   "source": [
    "### Mensajes"
   ]
  },
  {
   "cell_type": "code",
   "execution_count": 36,
   "metadata": {
    "id": "NXLxiTit0q1L"
   },
   "outputs": [
    {
     "name": "stdout",
     "output_type": "stream",
     "text": [
      "count    1573.000000\n",
      "mean       31.159568\n",
      "std        33.566717\n",
      "min         0.000000\n",
      "25%         3.000000\n",
      "50%        24.000000\n",
      "75%        47.000000\n",
      "max       266.000000\n",
      "Name: mensajes, dtype: float64\n",
      "\n",
      "count    720.000000\n",
      "mean      37.551389\n",
      "std       34.767179\n",
      "min        0.000000\n",
      "25%        7.000000\n",
      "50%       30.000000\n",
      "75%       61.000000\n",
      "max      166.000000\n",
      "Name: mensajes, dtype: float64\n"
     ]
    },
    {
     "data": {
      "image/png": "[encoded data removed]",
      "text/plain": [
       "<Figure size 432x288 with 1 Axes>"
      ]
     },
     "metadata": {
      "needs_background": "light"
     },
     "output_type": "display_data"
    }
   ],
   "source": [
    "# Comprara el número de mensajes que tienden a enviar cada mes los usuarios de cada plan\n",
    "df_mon_men_s = mrg_tar[mrg_tar['plan'] == 'surf']['mensajes']\n",
    "print(df_mon_men_s.describe())\n",
    "print()\n",
    "df_mon_men_u = mrg_tar[mrg_tar['plan'] == 'ultimate']['mensajes']\n",
    "print(df_mon_men_u.describe())\n",
    "\n",
    "x=[df_mon_men_s, df_mon_men_u]\n",
    "\n",
    "fig, ax = plt.subplots()\n",
    "ax.hist(x, bins=10, color=['lightsteelblue', 'pink'], edgecolor = \"white\")\n",
    "\n",
    "plt.title('Distribución de mensajes enviados según el plan del usuario')\n",
    "plt.legend(['surf', 'ultimate'])\n",
    "plt.xlabel('Mensajes enviados')\n",
    "plt.ylabel('Frecuencia')\n",
    "\n",
    "plt.show()"
   ]
  },
  {
   "cell_type": "code",
   "execution_count": 37,
   "metadata": {
    "id": "GRI_R7xF0q1L"
   },
   "outputs": [
    {
     "data": {
      "image/png": "[encoded data removed]",
      "text/plain": [
       "<Figure size 432x288 with 1 Axes>"
      ]
     },
     "metadata": {
      "needs_background": "light"
     },
     "output_type": "display_data"
    }
   ],
   "source": [
    "# Compara la cantidad de tráfico de Internet consumido por usuarios por plan\n",
    "sns.kdeplot(x = df_mon_men_s, fill = True, color='lightsteelblue')\n",
    "sns.kdeplot(x = df_mon_men_u, fill = True, shade=True, color= 'pink')\n",
    "\n",
    "plt.title('Histograma de densidad de los mensajes enviados según el plan')\n",
    "plt.legend(['surf', 'ultimate'])\n",
    "plt.xlabel('Mensajes enviados')\n",
    "plt.ylabel('Densidad')\n",
    "\n",
    "plt.show()"
   ]
  },
  {
   "cell_type": "code",
   "execution_count": 38,
   "metadata": {
    "id": "dtFwCGAp0q1M"
   },
   "outputs": [
    {
     "name": "stdout",
     "output_type": "stream",
     "text": [
      "La media de llamadas con plan surf es: 31.15956770502225\n",
      "La varianza de llamadas con plan surf es: 1126.008231726662\n",
      "La media de llamadas con plan ultimate es: 37.55138888888889\n",
      "La varianza de llamadas con plan ultimate es: 1207.0779147376543\n"
     ]
    }
   ],
   "source": [
    "# Calcula la media y la varianza de la duración mensual de mensajes\n",
    "mean_me_s = df_mon_men_s.mean()\n",
    "print(\"La media de llamadas con plan surf es:\",mean_me_s)\n",
    "\n",
    "var_me_s = np.var(df_mon_men_s)\n",
    "print(\"La varianza de llamadas con plan surf es:\",var_me_s)\n",
    "\n",
    "mean_me_u = df_mon_men_u.mean()\n",
    "print(\"La media de llamadas con plan ultimate es:\",mean_me_u)\n",
    "\n",
    "var_me_u = np.var(df_mon_men_u)\n",
    "print(\"La varianza de llamadas con plan ultimate es:\",var_me_u)"
   ]
  },
  {
   "cell_type": "code",
   "execution_count": 39,
   "metadata": {},
   "outputs": [
    {
     "data": {
      "image/png": "[encoded data removed]",
      "text/plain": [
       "<Figure size 432x288 with 1 Axes>"
      ]
     },
     "metadata": {
      "needs_background": "light"
     },
     "output_type": "display_data"
    }
   ],
   "source": [
    "# Traza un diagrama de caja para visualizar la distribución de los mensajes enviados mensualmente\n",
    "sns.boxplot(x = \"mensajes\", y = \"plan\", data = mrg_tar, palette= 'pastel',  saturation = 0.9, linewidth = 2,\n",
    "           fliersize = 8, order=['surf', 'ultimate'])\n",
    "\n",
    "\n",
    "plt.show()"
   ]
  },
  {
   "cell_type": "markdown",
   "metadata": {
    "id": "390SSL480q1M"
   },
   "source": [
    "[Elabora las conclusiones sobre el comportamiento de los usuarios con respecto a los mensajes. ¿Su comportamiento varía en función del plan?]"
   ]
  },
  {
   "cell_type": "markdown",
   "metadata": {},
   "source": [
    "Se visualiza en la gráfica mostrando en el de Cajas y Bigotes, que los usuarios de surf tienden a enviar menos de 50 mensajes pero muestra un comportamiento de los datos con sesgo a la derecha demostrando datos que se encuentran fuera del rango intercuartilico superior por lo tanto, tiene datos atípicos. "
   ]
  },
  {
   "cell_type": "markdown",
   "metadata": {
    "id": "42YSypXz0q1M"
   },
   "source": [
    "### Internet"
   ]
  },
  {
   "cell_type": "code",
   "execution_count": 40,
   "metadata": {
    "id": "lSuKPtjh0q1M"
   },
   "outputs": [
    {
     "name": "stdout",
     "output_type": "stream",
     "text": [
      "count     1573.000000\n",
      "mean     16558.283490\n",
      "std       8013.513327\n",
      "min          0.000000\n",
      "25%      11986.520000\n",
      "50%      16829.310000\n",
      "75%      20999.610000\n",
      "max      70931.590000\n",
      "Name: internet, dtype: float64\n",
      "\n",
      "count      720.000000\n",
      "mean     17214.699694\n",
      "std       7851.897435\n",
      "min          0.000000\n",
      "25%      12666.955000\n",
      "50%      16858.340000\n",
      "75%      21014.527500\n",
      "max      46595.330000\n",
      "Name: internet, dtype: float64\n"
     ]
    },
    {
     "data": {
      "image/png": "[encoded data removed]",
      "text/plain": [
       "<Figure size 432x288 with 1 Axes>"
      ]
     },
     "metadata": {
      "needs_background": "light"
     },
     "output_type": "display_data"
    }
   ],
   "source": [
    "# Comprara el número de mensajes que tienden a enviar cada mes los usuarios de cada plan\n",
    "df_mon_int_s = mrg_tar[mrg_tar['plan'] == 'surf']['internet']\n",
    "print(df_mon_int_s.describe())\n",
    "print()\n",
    "df_mon_int_u = mrg_tar[mrg_tar['plan'] == 'ultimate']['internet']\n",
    "print(df_mon_int_u.describe())\n",
    "\n",
    "x=[df_mon_int_s, df_mon_int_u]\n",
    "\n",
    "fig, ax = plt.subplots()\n",
    "ax.hist(x, bins=10, color=['lightsteelblue', 'pink'], edgecolor = \"white\")\n",
    "\n",
    "plt.title('Distribución de Megabytes usados según el plan del usuario')\n",
    "plt.legend(['surf', 'ultimate'])\n",
    "plt.xlabel('Megabytes consumidos')\n",
    "plt.ylabel('Frecuencia')\n",
    "\n",
    "plt.show()"
   ]
  },
  {
   "cell_type": "code",
   "execution_count": 41,
   "metadata": {
    "id": "wnh8jYXi0q1N"
   },
   "outputs": [
    {
     "data": {
      "image/png": "[encoded data removed]",
      "text/plain": [
       "<Figure size 432x288 with 1 Axes>"
      ]
     },
     "metadata": {
      "needs_background": "light"
     },
     "output_type": "display_data"
    }
   ],
   "source": [
    "#Gráfico de densidad de los Megabytes consumidos\n",
    "sns.kdeplot(x = df_mon_int_s, fill = True, color='lightsteelblue')\n",
    "sns.kdeplot(x = df_mon_int_u, fill = True, shade=True, color= 'pink')\n",
    "\n",
    "plt.title('Histograma de densidad de los Megabytes consumidos según el plan')\n",
    "plt.legend(['surf', 'ultimate'])\n",
    "plt.xlabel('Megabytes consumidos')\n",
    "plt.ylabel('Densidad')\n",
    "\n",
    "\n",
    "plt.show()"
   ]
  },
  {
   "cell_type": "code",
   "execution_count": 42,
   "metadata": {
    "id": "5VlyJ9ry0q1N"
   },
   "outputs": [
    {
     "name": "stdout",
     "output_type": "stream",
     "text": [
      "La media de llamadas con plan surf es: 16558.283490146216\n",
      "La varianza de llamadas con plan surf es: 64175571.68301331\n",
      "La media de llamadas con plan ultimate es: 17214.699694444447\n",
      "La varianza de llamadas con plan ultimate es: 61566665.1386863\n"
     ]
    }
   ],
   "source": [
    "# Calculo de media y varianza de los Megabytes consumidos.\n",
    "mean_int_s = df_mon_int_s.mean()\n",
    "print(\"La media de llamadas con plan surf es:\",mean_int_s)\n",
    "\n",
    "var_int_s = np.var(df_mon_int_s)\n",
    "print(\"La varianza de llamadas con plan surf es:\",var_int_s)\n",
    "\n",
    "mean_int_u = df_mon_int_u.mean()\n",
    "print(\"La media de llamadas con plan ultimate es:\",mean_int_u)\n",
    "\n",
    "var_int_u = np.var(df_mon_int_u)\n",
    "print(\"La varianza de llamadas con plan ultimate es:\",var_int_u)"
   ]
  },
  {
   "cell_type": "code",
   "execution_count": 43,
   "metadata": {},
   "outputs": [
    {
     "data": {
      "image/png": "[encoded data removed]",
      "text/plain": [
       "<Figure size 432x288 with 1 Axes>"
      ]
     },
     "metadata": {
      "needs_background": "light"
     },
     "output_type": "display_data"
    }
   ],
   "source": [
    "# Traza un diagrama de caja para visualizar la distribución de los Megabytes consumidos mensualmente\n",
    "sns.boxplot(x = \"internet\", y = \"plan\", data = mrg_tar, palette= 'pastel',  saturation = 0.9, linewidth = 2,\n",
    "           fliersize = 8, order=['surf', 'ultimate'])\n",
    "\n",
    "plt.show()"
   ]
  },
  {
   "cell_type": "markdown",
   "metadata": {
    "id": "UN9zwuMP0q1N"
   },
   "source": [
    "[Elabora las conclusiones sobre cómo los usuarios tienden a consumir el tráfico de Internet. ¿Su comportamiento varía en función del plan?]"
   ]
  },
  {
   "cell_type": "markdown",
   "metadata": {},
   "source": [
    "En el consumo de megabytes sobre los usuarios tiende a ser similar a los dos planes en cuanto a la distribución normal de la maypría de usuarios. Sin embargo, cabe mencionar que el limite de consumo del plan de surf es de 15GB, poco más del 60% de los usuarios superaron el límite de su plan."
   ]
  },
  {
   "cell_type": "markdown",
   "metadata": {
    "id": "tCijq3260q1N"
   },
   "source": [
    "## Ingreso"
   ]
  },
  {
   "cell_type": "markdown",
   "metadata": {
    "id": "9nq5IAcy0q1O"
   },
   "source": [
    "[Del mismo modo que has estudiado el comportamiento de los usuarios, describe estadísticamente los ingresos de los planes.]"
   ]
  },
  {
   "cell_type": "code",
   "execution_count": 44,
   "metadata": {
    "id": "tz-dq_V00q1O"
   },
   "outputs": [
    {
     "name": "stdout",
     "output_type": "stream",
     "text": [
      "count    1573.000000\n",
      "mean       60.331933\n",
      "std        55.263890\n",
      "min        20.000000\n",
      "25%        20.000000\n",
      "50%        40.150000\n",
      "75%        80.000000\n",
      "max       588.660000\n",
      "Name: usd_tar, dtype: float64\n",
      "\n",
      "count    720.000000\n",
      "mean      72.313889\n",
      "std       11.395108\n",
      "min       70.000000\n",
      "25%       70.000000\n",
      "50%       70.000000\n",
      "75%       70.000000\n",
      "max      182.000000\n",
      "Name: usd_tar, dtype: float64\n"
     ]
    },
    {
     "data": {
      "image/png": "[encoded data removed]",
      "text/plain": [
       "<Figure size 432x288 with 1 Axes>"
      ]
     },
     "metadata": {
      "needs_background": "light"
     },
     "output_type": "display_data"
    }
   ],
   "source": [
    "df_mon_ing_s = mrg_tar[mrg_tar['plan'] == 'surf']['usd_tar']\n",
    "print(df_mon_ing_s.describe())\n",
    "print()\n",
    "df_mon_ing_u = mrg_tar[mrg_tar['plan'] == 'ultimate']['usd_tar']\n",
    "print(df_mon_ing_u.describe())\n",
    "\n",
    "#Acá procedemos con el gráfico de distribución:\n",
    "\n",
    "x = [df_mon_ing_s, df_mon_ing_u]\n",
    "\n",
    "fig, ax = plt.subplots()\n",
    "ax.hist(x, bins=15, color=['lightsteelblue', 'pink'], edgecolor = \"white\")\n",
    "\n",
    "plt.title('Distribución de Ingresos según el plan del usuario')\n",
    "plt.legend(['surf', 'ultimate'])\n",
    "plt.xlabel('Megabytes consumidos')\n",
    "plt.ylabel('Frecuencia')\n",
    "\n",
    "plt.show()"
   ]
  },
  {
   "cell_type": "code",
   "execution_count": 45,
   "metadata": {
    "id": "0Y1v8ZUz0q1P"
   },
   "outputs": [
    {
     "data": {
      "image/png": "[encoded data removed]",
      "text/plain": [
       "<Figure size 432x288 with 1 Axes>"
      ]
     },
     "metadata": {
      "needs_background": "light"
     },
     "output_type": "display_data"
    }
   ],
   "source": [
    "#El histograma anterior se puede ver mejor con a través de un gráfico de densidad.\n",
    "sns.kdeplot(x = df_mon_ing_s, fill = True, color='lightsteelblue')\n",
    "sns.kdeplot(x = df_mon_ing_u, fill = True, shade=True, color= 'pink')\n",
    "\n",
    "plt.show()"
   ]
  },
  {
   "cell_type": "code",
   "execution_count": 46,
   "metadata": {
    "id": "bYmwxyVh0q1P"
   },
   "outputs": [
    {
     "name": "stdout",
     "output_type": "stream",
     "text": [
      "La media de llamadas con plan surf es: 60.331932612841705\n",
      "La varianza de llamadas con plan surf es: 3052.155930912179\n",
      "La media de llamadas con plan ultimate es: 72.31388888888888\n",
      "La varianza de llamadas con plan ultimate es: 129.66814043209877\n"
     ]
    }
   ],
   "source": [
    "# Calculo de media y varianza de los ingresos.\n",
    "mean_ing_s = df_mon_ing_s.mean()\n",
    "print(\"La media de llamadas con plan surf es:\",mean_ing_s)\n",
    "\n",
    "var_ing_s = np.var(df_mon_ing_s)\n",
    "print(\"La varianza de llamadas con plan surf es:\",var_ing_s)\n",
    "\n",
    "mean_ing_u = df_mon_ing_u.mean()\n",
    "print(\"La media de llamadas con plan ultimate es:\",mean_ing_u)\n",
    "\n",
    "var_ing_u = np.var(df_mon_ing_u)\n",
    "print(\"La varianza de llamadas con plan ultimate es:\",var_ing_u)"
   ]
  },
  {
   "cell_type": "code",
   "execution_count": 47,
   "metadata": {
    "scrolled": true
   },
   "outputs": [
    {
     "data": {
      "image/png": "[encoded data removed]",
      "text/plain": [
       "<Figure size 432x288 with 1 Axes>"
      ]
     },
     "metadata": {
      "needs_background": "light"
     },
     "output_type": "display_data"
    }
   ],
   "source": [
    "# Traza un diagrama de caja para visualizar la distribución de los ingresos mensuales\n",
    "sns.boxplot(x = \"usd_tar\", y = \"plan\", data = mrg_tar, palette= 'pastel',  saturation = 0.9, linewidth = 2,\n",
    "           fliersize = 8, order=['surf', 'ultimate'])\n",
    "\n",
    "plt.show()"
   ]
  },
  {
   "cell_type": "code",
   "execution_count": 48,
   "metadata": {},
   "outputs": [
    {
     "name": "stdout",
     "output_type": "stream",
     "text": [
      "Registros de usuarios que superaron el monto del plan ultimate:  41\n",
      "Número de usuarios que superaron el monto del plan ultimate:  18\n"
     ]
    }
   ],
   "source": [
    "#Usuarios de ultimate que superaron el monto del plan:\n",
    "\n",
    "ultimate_users_spent_more_money_than_plan = mrg_tar[(mrg_tar['plan']=='ultimate') & (mrg_tar['usd_tar']>70)]\n",
    "\n",
    "print(f\"Registros de usuarios que superaron el monto del plan ultimate: \", ultimate_users_spent_more_money_than_plan['user_id'].count())\n",
    "print(f\"Número de usuarios que superaron el monto del plan ultimate: \", ultimate_users_spent_more_money_than_plan['user_id'].nunique())"
   ]
  },
  {
   "cell_type": "code",
   "execution_count": 49,
   "metadata": {},
   "outputs": [
    {
     "name": "stdout",
     "output_type": "stream",
     "text": [
      "Registros de usuarios que superaron el monto del plan surf:  1120\n",
      "Número de usuarios que superaron el monto del plan surf:  293\n"
     ]
    }
   ],
   "source": [
    "#Usuarios de surf que superaron el monto del plan:\n",
    "\n",
    "surf_users_spent_more_money_than_plan = mrg_tar[(mrg_tar['plan']=='surf') & (mrg_tar['usd_tar']>20)]\n",
    "\n",
    "print(f\"Registros de usuarios que superaron el monto del plan surf: \", surf_users_spent_more_money_than_plan['user_id'].count())\n",
    "print(f\"Número de usuarios que superaron el monto del plan surf: \", surf_users_spent_more_money_than_plan['user_id'].nunique())"
   ]
  },
  {
   "cell_type": "markdown",
   "metadata": {
    "id": "KAFidcXZ0q1P"
   },
   "source": [
    "[Elabora las conclusiones sobre cómo difiere el ingreso entre los planes.]"
   ]
  },
  {
   "cell_type": "markdown",
   "metadata": {},
   "source": [
    "Se evidencia que el comportamiento de los usuarios con plan ultimate rara vez varía y suelen no exceder los límites de su plan (con 48 registros y 18 usuarios distintos), mientras que el 60% superan los límites de su plan. Por lo tanto, en el gráfico de cajas y bigotes tiene estos registros como datos atípicos. Además, los resultados del plan surf confirman que los usuarios suelen exceder los límites de su plan."
   ]
  },
  {
   "cell_type": "markdown",
   "metadata": {},
   "source": [
    "<div class=\"alert alert-block alert-success\">\n",
    "<b>Comentario revisor</b> <a class=\"tocSkip\"></a>\n",
    "\n",
    " Muy buena prática la de usar distintos tipos de gráficas identificar algunos hallazgos y llegar a conclusiones\n",
    "</div>"
   ]
  },
  {
   "cell_type": "markdown",
   "metadata": {
    "id": "ajJ7VKeI0q1Q"
   },
   "source": [
    "## Prueba las hipótesis estadísticas"
   ]
  },
  {
   "cell_type": "markdown",
   "metadata": {
    "id": "AdXAZ-yL0q1Q"
   },
   "source": [
    "[Prueba la hipótesis de que son diferentes los ingresos promedio procedentes de los usuarios de los planes de llamada Ultimate y Surf.]"
   ]
  },
  {
   "cell_type": "markdown",
   "metadata": {
    "id": "IQwa_hsh0q1Q"
   },
   "source": [
    "[Elabora las hipótesis nula y alternativa, escoge la prueba estadística, determina el valor alfa.]"
   ]
  },
  {
   "cell_type": "code",
   "execution_count": 50,
   "metadata": {
    "id": "nFoPNlPq0q1R"
   },
   "outputs": [
    {
     "name": "stdout",
     "output_type": "stream",
     "text": [
      "valor p: 3.6278039040985444e-16\n",
      "\n",
      "Rechazamos la hipótesis nula\n"
     ]
    }
   ],
   "source": [
    "# Prueba las hipótesis\n",
    "#En este caso la hipótesis nula debería considerar que: \"Los ingresos promedios de los usuarios Ultimate y Surf son iguales\"\n",
    "\n",
    "df_mon_ing_s # Este es nuestro Dataframe de ingresos de usuarios surf\n",
    "df_mon_ing_u # Este es nuestro Dataframe de ingresos de usuarios ultimate\n",
    "\n",
    "alpha = 0.05 # Nuestro alpha será de 0.05\n",
    "\n",
    "#Almacenaremos el cálculo de la prueba t en results, considerando que las varianzas son muy diferentes, por ello\n",
    "#usamos equal_var = False. El método a utilizar es st.ttest_ind:\n",
    "\n",
    "results = st.ttest_ind(df_mon_ing_s, df_mon_ing_u, equal_var=False) \n",
    "\n",
    "print('valor p:', results.pvalue) # Imprimimos el valor p obtenido\n",
    "print()\n",
    "\n",
    "if (results.pvalue < alpha): \n",
    "    print(\"Rechazamos la hipótesis nula\")\n",
    "else:\n",
    "    print(\"No podemos rechazar la hipótesis nula\")\n"
   ]
  },
  {
   "cell_type": "markdown",
   "metadata": {
    "id": "tCcAruM60q1R"
   },
   "source": [
    "[Prueba la hipótesis de que el ingreso promedio de los usuarios del área NY-NJ es diferente al de los usuarios de otras regiones.]"
   ]
  },
  {
   "cell_type": "code",
   "execution_count": 51,
   "metadata": {},
   "outputs": [
    {
     "data": {
      "text/plain": [
       "count    377.000000\n",
       "mean      59.611804\n",
       "std       43.477850\n",
       "min       20.000000\n",
       "25%       20.000000\n",
       "50%       51.080000\n",
       "75%       71.680000\n",
       "max      280.000000\n",
       "Name: usd_tar, dtype: float64"
      ]
     },
     "metadata": {},
     "output_type": "display_data"
    },
    {
     "data": {
      "text/plain": [
       "count    1916.000000\n",
       "mean       64.976242\n",
       "std        47.084648\n",
       "min        20.000000\n",
       "25%        23.870000\n",
       "50%        70.000000\n",
       "75%        70.000000\n",
       "max       588.660000\n",
       "Name: usd_tar, dtype: float64"
      ]
     },
     "metadata": {},
     "output_type": "display_data"
    },
    {
     "name": "stdout",
     "output_type": "stream",
     "text": [
      "La varianza de los ingresos de usuarios de NY-NJ es:  1885.3093622638592\n",
      "\n",
      "La varianza de los ingresos de usuarios que no son de NY-NJ es:  2215.8070290937544\n"
     ]
    }
   ],
   "source": [
    "#En este caso la hipótesis nula debería considerar que: \"Los ingresos promedios de los usuarios de NY-NJ son iguales al resto\n",
    "#del país\"\n",
    "\n",
    "\n",
    "#Primero almacenamos los registros de los usuarios de NY-NJ y los que no en dos variables distintas:\n",
    "ny_nj_users = mrg_tar[mrg_tar['city']=='New York-Newark-Jersey City, NY-NJ-PA MSA']['usd_tar']\n",
    "\n",
    "non_ny_nj_users = mrg_tar[mrg_tar['city']!='New York-Newark-Jersey City, NY-NJ-PA MSA']['usd_tar']\n",
    "\n",
    "\n",
    "display(ny_nj_users.describe())\n",
    "\n",
    "display(non_ny_nj_users.describe())\n",
    "\n",
    "print(\"La varianza de los ingresos de usuarios de NY-NJ es: \", np.var(ny_nj_users))\n",
    "print()\n",
    "print(\"La varianza de los ingresos de usuarios que no son de NY-NJ es: \", np.var(non_ny_nj_users))"
   ]
  },
  {
   "cell_type": "markdown",
   "metadata": {
    "id": "LsBgitqj0q1R"
   },
   "source": [
    "[Elabora las hipótesis nula y alternativa, escoge la prueba estadística, determina el valor alfa.]"
   ]
  },
  {
   "cell_type": "code",
   "execution_count": 52,
   "metadata": {
    "id": "Cqcj7wrZ0q1S"
   },
   "outputs": [
    {
     "name": "stdout",
     "output_type": "stream",
     "text": [
      "valor p: 0.031237788444585222\n",
      "\n",
      "Rechazamos la hipótesis nula\n"
     ]
    }
   ],
   "source": [
    "# Prueba las hipótesis\n",
    "alpha = 0.05\n",
    "\n",
    "#Almacenaremos el cálculo de la prueba t en results, considerando que las varianzas son muy diferentes, por ello\n",
    "#usamos equal_var = False. El método a utilizar es st.ttest_ind:\n",
    "\n",
    "results = st.ttest_ind(ny_nj_users, non_ny_nj_users, equal_var=False)\n",
    "\n",
    "print('valor p:', results.pvalue) # Imprimimos el valor p obtenido\n",
    "print()\n",
    "\n",
    "if (results.pvalue < alpha): \n",
    "    print(\"Rechazamos la hipótesis nula\")\n",
    "else:\n",
    "    print(\"No podemos rechazar la hipótesis nula\")\n"
   ]
  },
  {
   "cell_type": "markdown",
   "metadata": {
    "id": "bbTR8UQO0q1T"
   },
   "source": [
    "## Conclusión general\n",
    "\n",
    "[En esta sección final, enumera tus conclusiones importantes. Asegúrate de que estas abarquen todas las decisiones (suposiciones) importantes que adoptaste y que determinaron la forma elegida para procesar y analizar los datos.]"
   ]
  },
  {
   "cell_type": "markdown",
   "metadata": {},
   "source": [
    "1.- Se realizó la carga de información con read_csv\n",
    "2.- Se preparó la información viendo si tenian valores ausentes y duplicados.\n",
    "3.- Se realizó los calculos sobre los valores a pagar mensual de internet, llamadas y mensajes por plan: ultimate y surf. Realizando con np.maximum para reemplazar valores negativos y np.ceil para redondear al valor próximo\n",
    "4.- Se realizó gráficas de densidad, histogramas y cajas y bigotes para comprobar la información calculada.\n",
    "5.- Se realizó prueba de hipotesis con las fórmulas expuestas en el proyecto.\n",
    "\n",
    "Finalmente, se comprueba que las hipotesis deben ser rechazadas."
   ]
  },
  {
   "cell_type": "markdown",
   "metadata": {},
   "source": [
    "<div class=\"alert alert-block alert-warning\">\n",
    "<b>Comentario revisor</b> <a class=\"tocSkip\"></a>\n",
    "\n",
    "En general creo que hiciste un muy buen trabajo con el proyecto, pudiste limpiar y trabajar las bases de datos de beuna manera, así como juntar la información. Además, considero que el análisis con las gráficas y con las pruebas de hipótesis es muy acertado. No obstante, recuerda que siempre podemos mejorar y te menciono algunos puntos que debes considerar:\n",
    "\n",
    "* Realizar un análisis inicial de registros duplicados en todas las bases de datos\n",
    "    \n",
    "    \n",
    "*  verificar que el tipo de las variables es correcto\n",
    "\n",
    "</div>"
   ]
  },
  {
   "cell_type": "markdown",
   "metadata": {},
   "source": [
    "<div class=\"alert alert-block alert-info\">\n",
    "<b>Respuesta del estudiante.</b> <a class=\"tocSkip\"></a>\n",
    "    \n",
    "Se realiza los ajustes en:\n",
    "* Agregar libreria math\n",
    "* Corregir datos con valores ausentes y duplicados\n",
    "* Enriquecer los datos cambiando a datatime\n",
    "* Utilizar pivot_table para contar y sumar\n",
    "* Indicar la conversión de megas a gigas\n",
    "</div>"
   ]
  }
 ],
 "metadata": {
  "ExecuteTimeLog": [
   {
    "duration": 828,
    "start_time": "2021-11-16T09:21:11.304Z"
   },
   {
    "duration": 893,
    "start_time": "2021-11-16T09:21:17.728Z"
   },
   {
    "duration": 1150,
    "start_time": "2021-11-16T09:21:29.568Z"
   },
   {
    "duration": 3,
    "start_time": "2021-11-16T09:24:14.495Z"
   },
   {
    "duration": 120,
    "start_time": "2021-11-16T09:24:46.630Z"
   },
   {
    "duration": 3,
    "start_time": "2021-11-16T09:28:27.882Z"
   },
   {
    "duration": 4,
    "start_time": "2021-11-16T09:29:54.281Z"
   },
   {
    "duration": 3,
    "start_time": "2021-11-16T09:30:45.936Z"
   },
   {
    "duration": 4,
    "start_time": "2021-11-16T09:31:06.300Z"
   },
   {
    "duration": 113,
    "start_time": "2021-11-16T09:31:37.208Z"
   },
   {
    "duration": 143,
    "start_time": "2021-11-16T09:31:48.656Z"
   },
   {
    "duration": 98,
    "start_time": "2021-11-16T09:31:55.678Z"
   },
   {
    "duration": 3,
    "start_time": "2021-11-16T09:32:08.535Z"
   },
   {
    "duration": 111,
    "start_time": "2021-11-16T09:32:10.120Z"
   },
   {
    "duration": 3,
    "start_time": "2021-11-16T09:32:15.732Z"
   },
   {
    "duration": 4,
    "start_time": "2021-11-16T09:32:29.423Z"
   },
   {
    "duration": 3,
    "start_time": "2021-11-16T10:03:03.074Z"
   },
   {
    "duration": 3,
    "start_time": "2021-11-16T10:10:01.288Z"
   },
   {
    "duration": 3,
    "start_time": "2021-11-16T10:10:46.923Z"
   },
   {
    "duration": 121,
    "start_time": "2021-11-16T10:37:46.494Z"
   },
   {
    "duration": 125,
    "start_time": "2021-11-16T10:38:20.632Z"
   },
   {
    "duration": 112,
    "start_time": "2021-11-16T10:46:53.001Z"
   },
   {
    "duration": 110,
    "start_time": "2021-11-16T10:48:25.775Z"
   },
   {
    "duration": 3,
    "start_time": "2021-11-16T10:50:18.720Z"
   },
   {
    "duration": 4,
    "start_time": "2021-11-16T10:50:37.649Z"
   },
   {
    "duration": 2,
    "start_time": "2021-11-16T10:50:51.884Z"
   },
   {
    "duration": 3,
    "start_time": "2021-11-16T10:51:56.237Z"
   },
   {
    "duration": 101,
    "start_time": "2021-11-16T10:53:13.791Z"
   },
   {
    "duration": 3,
    "start_time": "2021-11-16T10:55:59.186Z"
   },
   {
    "duration": 3,
    "start_time": "2021-11-16T10:56:10.751Z"
   },
   {
    "duration": 3,
    "start_time": "2021-11-16T10:56:49.038Z"
   },
   {
    "duration": 3,
    "start_time": "2021-11-16T10:56:49.174Z"
   },
   {
    "duration": 4,
    "start_time": "2021-11-16T10:56:49.414Z"
   },
   {
    "duration": 3,
    "start_time": "2021-11-16T10:56:49.680Z"
   },
   {
    "duration": 3,
    "start_time": "2021-11-16T10:56:50.370Z"
   },
   {
    "duration": 114,
    "start_time": "2021-11-16T10:59:34.518Z"
   },
   {
    "duration": 3,
    "start_time": "2021-11-16T11:01:41.201Z"
   },
   {
    "duration": 116,
    "start_time": "2021-11-16T11:01:48.754Z"
   },
   {
    "duration": 3,
    "start_time": "2021-11-16T11:02:16.685Z"
   },
   {
    "duration": 3,
    "start_time": "2021-11-16T11:02:19.479Z"
   },
   {
    "duration": 3,
    "start_time": "2021-11-16T11:02:47.067Z"
   },
   {
    "duration": 3,
    "start_time": "2021-11-16T11:02:49.353Z"
   },
   {
    "duration": 3,
    "start_time": "2021-11-16T11:03:07.835Z"
   },
   {
    "duration": 3,
    "start_time": "2021-11-16T11:03:07.953Z"
   },
   {
    "duration": 112,
    "start_time": "2021-11-16T11:07:52.072Z"
   },
   {
    "duration": 187,
    "start_time": "2021-11-16T11:09:23.468Z"
   },
   {
    "duration": 4,
    "start_time": "2021-11-16T11:10:01.455Z"
   },
   {
    "duration": 3,
    "start_time": "2021-11-16T11:10:05.069Z"
   },
   {
    "duration": 4,
    "start_time": "2021-11-16T11:10:13.376Z"
   },
   {
    "duration": 3,
    "start_time": "2021-11-16T11:10:14.434Z"
   },
   {
    "duration": 3,
    "start_time": "2021-11-16T11:10:22.853Z"
   },
   {
    "duration": 4,
    "start_time": "2021-11-16T11:27:29.279Z"
   },
   {
    "duration": 4,
    "start_time": "2021-11-16T11:29:08.919Z"
   },
   {
    "duration": 118,
    "start_time": "2021-11-16T11:29:46.703Z"
   },
   {
    "duration": 437,
    "start_time": "2021-11-16T11:36:02.181Z"
   },
   {
    "duration": 157,
    "start_time": "2021-11-16T11:36:14.388Z"
   },
   {
    "duration": 207,
    "start_time": "2021-11-16T11:47:15.898Z"
   },
   {
    "duration": 3,
    "start_time": "2021-11-16T11:53:52.092Z"
   },
   {
    "duration": 3,
    "start_time": "2021-11-16T11:53:52.236Z"
   },
   {
    "duration": 3,
    "start_time": "2021-11-16T11:59:12.005Z"
   },
   {
    "duration": 112,
    "start_time": "2021-11-16T12:00:33.446Z"
   },
   {
    "duration": 3,
    "start_time": "2021-11-16T12:02:14.453Z"
   },
   {
    "duration": 3,
    "start_time": "2021-11-16T12:02:39.512Z"
   },
   {
    "duration": 106,
    "start_time": "2021-11-16T12:03:03.460Z"
   },
   {
    "duration": 3,
    "start_time": "2021-11-17T20:37:21.139Z"
   },
   {
    "duration": 3,
    "start_time": "2021-11-17T20:37:22.229Z"
   },
   {
    "duration": 3,
    "start_time": "2021-11-17T20:38:38.806Z"
   },
   {
    "duration": 3,
    "start_time": "2021-11-17T20:38:41.958Z"
   },
   {
    "duration": 3,
    "start_time": "2021-11-17T20:43:46.551Z"
   },
   {
    "duration": 4,
    "start_time": "2021-11-17T20:58:21.835Z"
   },
   {
    "duration": 3,
    "start_time": "2021-11-17T20:59:21.872Z"
   },
   {
    "duration": 4,
    "start_time": "2021-11-17T20:59:45.352Z"
   },
   {
    "duration": 4,
    "start_time": "2021-11-17T20:59:49.646Z"
   },
   {
    "duration": 159,
    "start_time": "2021-11-17T21:02:26.949Z"
   },
   {
    "duration": 3,
    "start_time": "2021-11-17T21:03:53.461Z"
   },
   {
    "duration": 3,
    "start_time": "2021-11-17T21:03:53.694Z"
   },
   {
    "duration": 3,
    "start_time": "2021-11-17T21:05:28.145Z"
   },
   {
    "duration": 116,
    "start_time": "2021-11-17T21:05:57.787Z"
   },
   {
    "duration": 3,
    "start_time": "2021-11-17T21:06:37.993Z"
   },
   {
    "duration": 3,
    "start_time": "2021-11-17T21:06:38.261Z"
   },
   {
    "duration": 3,
    "start_time": "2021-11-17T21:11:54.358Z"
   },
   {
    "duration": 3,
    "start_time": "2021-11-17T21:12:43.846Z"
   },
   {
    "duration": 4,
    "start_time": "2021-11-17T21:13:08.773Z"
   },
   {
    "duration": 3,
    "start_time": "2021-11-17T21:14:44.441Z"
   },
   {
    "duration": 3,
    "start_time": "2021-11-17T21:15:42.059Z"
   },
   {
    "duration": 4,
    "start_time": "2021-11-17T21:15:51.995Z"
   },
   {
    "duration": 3,
    "start_time": "2021-11-17T21:15:53.923Z"
   },
   {
    "duration": 3,
    "start_time": "2021-11-17T21:15:55.282Z"
   },
   {
    "duration": 3,
    "start_time": "2021-11-17T21:16:28.492Z"
   },
   {
    "duration": 3,
    "start_time": "2021-11-17T21:16:32.603Z"
   },
   {
    "duration": 3,
    "start_time": "2021-11-17T21:17:06.941Z"
   },
   {
    "duration": 98,
    "start_time": "2021-11-17T21:18:05.733Z"
   },
   {
    "duration": 4,
    "start_time": "2021-11-17T21:21:35.255Z"
   },
   {
    "duration": 3,
    "start_time": "2021-11-17T21:21:37.804Z"
   },
   {
    "duration": 4,
    "start_time": "2021-11-17T21:23:06.071Z"
   },
   {
    "duration": 3,
    "start_time": "2021-11-17T21:23:24.799Z"
   },
   {
    "duration": 3,
    "start_time": "2021-11-17T21:23:32.591Z"
   },
   {
    "duration": 98,
    "start_time": "2021-11-17T21:28:31.559Z"
   },
   {
    "duration": 3,
    "start_time": "2021-11-17T21:28:45.448Z"
   },
   {
    "duration": 3,
    "start_time": "2021-11-17T21:29:17.303Z"
   },
   {
    "duration": 3,
    "start_time": "2021-11-17T21:29:29.617Z"
   },
   {
    "duration": 3,
    "start_time": "2021-11-17T21:29:32.681Z"
   },
   {
    "duration": 3,
    "start_time": "2021-11-17T21:36:11.474Z"
   },
   {
    "duration": 3,
    "start_time": "2021-11-17T21:36:14.791Z"
   },
   {
    "duration": 3,
    "start_time": "2021-11-17T21:36:53.943Z"
   },
   {
    "duration": 3,
    "start_time": "2021-11-17T21:36:56.165Z"
   },
   {
    "duration": 4,
    "start_time": "2021-11-17T21:37:16.590Z"
   },
   {
    "duration": 3,
    "start_time": "2021-11-17T21:37:22.702Z"
   },
   {
    "duration": 4,
    "start_time": "2021-11-17T21:38:03.479Z"
   },
   {
    "duration": 3,
    "start_time": "2021-11-17T21:38:08.601Z"
   },
   {
    "duration": 3,
    "start_time": "2021-11-17T21:38:12.928Z"
   },
   {
    "duration": 3,
    "start_time": "2021-11-17T21:38:48.896Z"
   },
   {
    "duration": 2,
    "start_time": "2021-11-17T21:38:49.171Z"
   },
   {
    "duration": 4,
    "start_time": "2021-11-17T21:39:57.889Z"
   },
   {
    "duration": 3,
    "start_time": "2021-11-17T21:39:58.057Z"
   },
   {
    "duration": 3,
    "start_time": "2021-11-17T21:41:20.108Z"
   },
   {
    "duration": 3,
    "start_time": "2021-11-17T21:41:20.629Z"
   },
   {
    "duration": 3,
    "start_time": "2021-11-17T21:42:49.136Z"
   },
   {
    "duration": 3,
    "start_time": "2021-11-17T21:43:15.137Z"
   },
   {
    "duration": 4,
    "start_time": "2021-11-17T21:43:16.766Z"
   },
   {
    "duration": 4,
    "start_time": "2021-11-17T21:43:31.711Z"
   },
   {
    "duration": 3,
    "start_time": "2021-11-17T21:43:36.312Z"
   },
   {
    "duration": 4,
    "start_time": "2021-11-17T21:45:08.825Z"
   },
   {
    "duration": 4,
    "start_time": "2021-11-17T21:45:10.119Z"
   },
   {
    "duration": 4,
    "start_time": "2021-11-17T21:45:13.748Z"
   },
   {
    "duration": 3,
    "start_time": "2021-11-17T21:45:22.219Z"
   },
   {
    "duration": 3,
    "start_time": "2021-11-17T21:45:33.412Z"
   },
   {
    "duration": 2,
    "start_time": "2021-11-17T21:46:01.885Z"
   },
   {
    "duration": 3,
    "start_time": "2021-11-17T21:46:03.628Z"
   },
   {
    "duration": 107,
    "start_time": "2021-11-17T21:47:32.512Z"
   },
   {
    "duration": 103,
    "start_time": "2021-11-17T21:50:36.243Z"
   },
   {
    "duration": 3,
    "start_time": "2021-11-18T06:28:31.440Z"
   },
   {
    "duration": 3,
    "start_time": "2021-11-18T06:29:00.168Z"
   },
   {
    "duration": 3,
    "start_time": "2021-11-18T06:31:27.008Z"
   },
   {
    "duration": 2,
    "start_time": "2021-11-18T06:35:34.288Z"
   },
   {
    "duration": 2,
    "start_time": "2021-11-18T06:38:04.527Z"
   }
  ],
  "colab": {
   "provenance": []
  },
  "kernelspec": {
   "display_name": "Python 3 (ipykernel)",
   "language": "python",
   "name": "python3"
  },
  "language_info": {
   "codemirror_mode": {
    "name": "ipython",
    "version": 3
   },
   "file_extension": ".py",
   "mimetype": "text/x-python",
   "name": "python",
   "nbconvert_exporter": "python",
   "pygments_lexer": "ipython3",
   "version": "3.9.19"
  },
  "toc": {
   "base_numbering": 1,
   "nav_menu": {},
   "number_sections": true,
   "sideBar": true,
   "skip_h1_title": false,
   "title_cell": "Table of Contents",
   "title_sidebar": "Contents",
   "toc_cell": false,
   "toc_position": {
    "height": "calc(100% - 180px)",
    "left": "10px",
    "top": "150px",
    "width": "368px"
   },
   "toc_section_display": true,
   "toc_window_display": true
  }
 },
 "nbformat": 4,
 "nbformat_minor": 1
}
